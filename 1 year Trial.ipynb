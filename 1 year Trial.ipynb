{
 "metadata": {
  "language_info": {
   "codemirror_mode": {
    "name": "ipython",
    "version": 3
   },
   "file_extension": ".py",
   "mimetype": "text/x-python",
   "name": "python",
   "nbconvert_exporter": "python",
   "pygments_lexer": "ipython3",
   "version": "3.8.5-final"
  },
  "orig_nbformat": 2,
  "kernelspec": {
   "name": "python3",
   "display_name": "Python 3"
  }
 },
 "nbformat": 4,
 "nbformat_minor": 2,
 "cells": [
  {
   "cell_type": "code",
   "execution_count": 127,
   "metadata": {},
   "outputs": [],
   "source": [
    "import pandas as pd\n",
    "import numpy as np\n",
    "import datetime as dt\n",
    "import matplotlib.pyplot as plt\n",
    "import seaborn as sns"
   ]
  },
  {
   "cell_type": "code",
   "execution_count": 151,
   "metadata": {},
   "outputs": [
    {
     "output_type": "execute_result",
     "data": {
      "text/plain": [
       "              date  hour report region type participant     resource    mw\n",
       "0       2019-01-01     1    RTX  LUZON   LD     WESMTMP  1ANGAT_T5L1   0.0\n",
       "1       2019-01-01     1    RTX  LUZON   LD        WESM  1BALNEO_L01  50.4\n",
       "2       2019-01-01     1    RTX  LUZON   LD      LUELCO  1BAUAN_T1L2   0.0\n",
       "3       2019-01-01     1    RTX  LUZON   LD        WESM  1BINGA_T1L1   0.0\n",
       "4       2019-01-01     1    RTX  LUZON   LD        WESM  1BOTOL_T1L2  13.8\n",
       "...            ...   ...    ...    ...  ...         ...          ...   ...\n",
       "797026  2019-04-01    24    RTX  LUZON   LD        WESM  3CALIR_TAL1   6.7\n",
       "797027  2019-04-01    24    RTX  LUZON   LD        WESM  3CALI_FLECO  14.3\n",
       "797028  2019-04-01    24    RTX  LUZON   LD       PSALM     3KAL_P03   0.0\n",
       "797029  2019-04-01    24    RTX  LUZON   LD        WESM    3MKBNB_SS   4.5\n",
       "797030  2019-04-01    24    RTX  LUZON   LD        WESM    3MKBNE_SS   1.0\n",
       "\n",
       "[562899 rows x 8 columns]"
      ],
      "text/html": "<div>\n<style scoped>\n    .dataframe tbody tr th:only-of-type {\n        vertical-align: middle;\n    }\n\n    .dataframe tbody tr th {\n        vertical-align: top;\n    }\n\n    .dataframe thead th {\n        text-align: right;\n    }\n</style>\n<table border=\"1\" class=\"dataframe\">\n  <thead>\n    <tr style=\"text-align: right;\">\n      <th></th>\n      <th>date</th>\n      <th>hour</th>\n      <th>report</th>\n      <th>region</th>\n      <th>type</th>\n      <th>participant</th>\n      <th>resource</th>\n      <th>mw</th>\n    </tr>\n  </thead>\n  <tbody>\n    <tr>\n      <th>0</th>\n      <td>2019-01-01</td>\n      <td>1</td>\n      <td>RTX</td>\n      <td>LUZON</td>\n      <td>LD</td>\n      <td>WESMTMP</td>\n      <td>1ANGAT_T5L1</td>\n      <td>0.0</td>\n    </tr>\n    <tr>\n      <th>1</th>\n      <td>2019-01-01</td>\n      <td>1</td>\n      <td>RTX</td>\n      <td>LUZON</td>\n      <td>LD</td>\n      <td>WESM</td>\n      <td>1BALNEO_L01</td>\n      <td>50.4</td>\n    </tr>\n    <tr>\n      <th>2</th>\n      <td>2019-01-01</td>\n      <td>1</td>\n      <td>RTX</td>\n      <td>LUZON</td>\n      <td>LD</td>\n      <td>LUELCO</td>\n      <td>1BAUAN_T1L2</td>\n      <td>0.0</td>\n    </tr>\n    <tr>\n      <th>3</th>\n      <td>2019-01-01</td>\n      <td>1</td>\n      <td>RTX</td>\n      <td>LUZON</td>\n      <td>LD</td>\n      <td>WESM</td>\n      <td>1BINGA_T1L1</td>\n      <td>0.0</td>\n    </tr>\n    <tr>\n      <th>4</th>\n      <td>2019-01-01</td>\n      <td>1</td>\n      <td>RTX</td>\n      <td>LUZON</td>\n      <td>LD</td>\n      <td>WESM</td>\n      <td>1BOTOL_T1L2</td>\n      <td>13.8</td>\n    </tr>\n    <tr>\n      <th>...</th>\n      <td>...</td>\n      <td>...</td>\n      <td>...</td>\n      <td>...</td>\n      <td>...</td>\n      <td>...</td>\n      <td>...</td>\n      <td>...</td>\n    </tr>\n    <tr>\n      <th>797026</th>\n      <td>2019-04-01</td>\n      <td>24</td>\n      <td>RTX</td>\n      <td>LUZON</td>\n      <td>LD</td>\n      <td>WESM</td>\n      <td>3CALIR_TAL1</td>\n      <td>6.7</td>\n    </tr>\n    <tr>\n      <th>797027</th>\n      <td>2019-04-01</td>\n      <td>24</td>\n      <td>RTX</td>\n      <td>LUZON</td>\n      <td>LD</td>\n      <td>WESM</td>\n      <td>3CALI_FLECO</td>\n      <td>14.3</td>\n    </tr>\n    <tr>\n      <th>797028</th>\n      <td>2019-04-01</td>\n      <td>24</td>\n      <td>RTX</td>\n      <td>LUZON</td>\n      <td>LD</td>\n      <td>PSALM</td>\n      <td>3KAL_P03</td>\n      <td>0.0</td>\n    </tr>\n    <tr>\n      <th>797029</th>\n      <td>2019-04-01</td>\n      <td>24</td>\n      <td>RTX</td>\n      <td>LUZON</td>\n      <td>LD</td>\n      <td>WESM</td>\n      <td>3MKBNB_SS</td>\n      <td>4.5</td>\n    </tr>\n    <tr>\n      <th>797030</th>\n      <td>2019-04-01</td>\n      <td>24</td>\n      <td>RTX</td>\n      <td>LUZON</td>\n      <td>LD</td>\n      <td>WESM</td>\n      <td>3MKBNE_SS</td>\n      <td>1.0</td>\n    </tr>\n  </tbody>\n</table>\n<p>562899 rows × 8 columns</p>\n</div>"
     },
     "metadata": {},
     "execution_count": 151
    }
   ],
   "source": [
    "dfq1 = pd.read_csv(r'C:\\Users\\William\\Desktop\\RTX_LD\\RTX_2019Q1.csv')\n",
    "dfq1 = dfq1[dfq1.region != 'VISAYAS']\n",
    "dfq1"
   ]
  },
  {
   "cell_type": "code",
   "execution_count": 152,
   "metadata": {},
   "outputs": [
    {
     "output_type": "execute_result",
     "data": {
      "text/plain": [
       "              date  hour report region type participant     resource     mw\n",
       "0       2019-04-01     1    RTX  LUZON   LD        WESM    1BCNOT_SS    0.0\n",
       "1       2019-04-01     1    RTX  LUZON   LD        WESM   1BTPP_T3L1    0.0\n",
       "2       2019-04-01     1    RTX  LUZON   LD        WESM   1BTPP_T3L2   17.8\n",
       "3       2019-04-01     1    RTX  LUZON   LD     WESMTMP  1CBNTU_T1L1   39.0\n",
       "4       2019-04-01     1    RTX  LUZON   LD     WESMTMP  1CURIM_T1L2    4.2\n",
       "...            ...   ...    ...    ...  ...         ...          ...    ...\n",
       "797000  2019-06-30    24    RTX  LUZON   LD        WESM    3MKBNB_SS    4.4\n",
       "797001  2019-06-30    24    RTX  LUZON   LD        WESM    3MKBND_SS    1.0\n",
       "797002  2019-06-30    24    RTX  LUZON   LD        WESM    3ORMAT_SS    0.0\n",
       "797003  2019-06-30    24    RTX  LUZON   LD        WESM    3STAR_SS2    0.0\n",
       "797004  2019-06-30    24    RTX  LUZON   LD     MERALCO  3STROS_T1L1  277.0\n",
       "\n",
       "[563741 rows x 8 columns]"
      ],
      "text/html": "<div>\n<style scoped>\n    .dataframe tbody tr th:only-of-type {\n        vertical-align: middle;\n    }\n\n    .dataframe tbody tr th {\n        vertical-align: top;\n    }\n\n    .dataframe thead th {\n        text-align: right;\n    }\n</style>\n<table border=\"1\" class=\"dataframe\">\n  <thead>\n    <tr style=\"text-align: right;\">\n      <th></th>\n      <th>date</th>\n      <th>hour</th>\n      <th>report</th>\n      <th>region</th>\n      <th>type</th>\n      <th>participant</th>\n      <th>resource</th>\n      <th>mw</th>\n    </tr>\n  </thead>\n  <tbody>\n    <tr>\n      <th>0</th>\n      <td>2019-04-01</td>\n      <td>1</td>\n      <td>RTX</td>\n      <td>LUZON</td>\n      <td>LD</td>\n      <td>WESM</td>\n      <td>1BCNOT_SS</td>\n      <td>0.0</td>\n    </tr>\n    <tr>\n      <th>1</th>\n      <td>2019-04-01</td>\n      <td>1</td>\n      <td>RTX</td>\n      <td>LUZON</td>\n      <td>LD</td>\n      <td>WESM</td>\n      <td>1BTPP_T3L1</td>\n      <td>0.0</td>\n    </tr>\n    <tr>\n      <th>2</th>\n      <td>2019-04-01</td>\n      <td>1</td>\n      <td>RTX</td>\n      <td>LUZON</td>\n      <td>LD</td>\n      <td>WESM</td>\n      <td>1BTPP_T3L2</td>\n      <td>17.8</td>\n    </tr>\n    <tr>\n      <th>3</th>\n      <td>2019-04-01</td>\n      <td>1</td>\n      <td>RTX</td>\n      <td>LUZON</td>\n      <td>LD</td>\n      <td>WESMTMP</td>\n      <td>1CBNTU_T1L1</td>\n      <td>39.0</td>\n    </tr>\n    <tr>\n      <th>4</th>\n      <td>2019-04-01</td>\n      <td>1</td>\n      <td>RTX</td>\n      <td>LUZON</td>\n      <td>LD</td>\n      <td>WESMTMP</td>\n      <td>1CURIM_T1L2</td>\n      <td>4.2</td>\n    </tr>\n    <tr>\n      <th>...</th>\n      <td>...</td>\n      <td>...</td>\n      <td>...</td>\n      <td>...</td>\n      <td>...</td>\n      <td>...</td>\n      <td>...</td>\n      <td>...</td>\n    </tr>\n    <tr>\n      <th>797000</th>\n      <td>2019-06-30</td>\n      <td>24</td>\n      <td>RTX</td>\n      <td>LUZON</td>\n      <td>LD</td>\n      <td>WESM</td>\n      <td>3MKBNB_SS</td>\n      <td>4.4</td>\n    </tr>\n    <tr>\n      <th>797001</th>\n      <td>2019-06-30</td>\n      <td>24</td>\n      <td>RTX</td>\n      <td>LUZON</td>\n      <td>LD</td>\n      <td>WESM</td>\n      <td>3MKBND_SS</td>\n      <td>1.0</td>\n    </tr>\n    <tr>\n      <th>797002</th>\n      <td>2019-06-30</td>\n      <td>24</td>\n      <td>RTX</td>\n      <td>LUZON</td>\n      <td>LD</td>\n      <td>WESM</td>\n      <td>3ORMAT_SS</td>\n      <td>0.0</td>\n    </tr>\n    <tr>\n      <th>797003</th>\n      <td>2019-06-30</td>\n      <td>24</td>\n      <td>RTX</td>\n      <td>LUZON</td>\n      <td>LD</td>\n      <td>WESM</td>\n      <td>3STAR_SS2</td>\n      <td>0.0</td>\n    </tr>\n    <tr>\n      <th>797004</th>\n      <td>2019-06-30</td>\n      <td>24</td>\n      <td>RTX</td>\n      <td>LUZON</td>\n      <td>LD</td>\n      <td>MERALCO</td>\n      <td>3STROS_T1L1</td>\n      <td>277.0</td>\n    </tr>\n  </tbody>\n</table>\n<p>563741 rows × 8 columns</p>\n</div>"
     },
     "metadata": {},
     "execution_count": 152
    }
   ],
   "source": [
    "dfq2 = pd.read_csv(r'C:\\Users\\William\\Desktop\\RTX_LD\\RTX_2019Q2.csv')\n",
    "dfq2 = dfq2[dfq2.region != 'VISAYAS']\n",
    "dfq2 = dfq2.drop('price',axis = 1)\n",
    "dfq2"
   ]
  },
  {
   "cell_type": "code",
   "execution_count": 153,
   "metadata": {},
   "outputs": [
    {
     "output_type": "execute_result",
     "data": {
      "text/plain": [
       "              date  hour report region type participant     resource    mw\n",
       "0       2019-07-01     1    RTX  LUZON   LD     WESMTMP     1AEC_L01  38.5\n",
       "1       2019-07-01     1    RTX  LUZON   LD        WESM    1AMBUK_SS   0.0\n",
       "2       2019-07-01     1    RTX  LUZON   LD       LUECO  1BAUAN_T1L1  21.8\n",
       "3       2019-07-01     1    RTX  LUZON   LD        WESM     1BPPC_SS   0.0\n",
       "4       2019-07-01     1    RTX  LUZON   LD        WESM    1CBNTU_SS   0.0\n",
       "...            ...   ...    ...    ...  ...         ...          ...   ...\n",
       "812401  2019-09-30    24    RTX  LUZON   LD        WESM    3MKBNB_SS   4.6\n",
       "812402  2019-09-30    24    RTX  LUZON   LD        WESM    3MKBNE_SS   1.0\n",
       "812403  2019-09-30    24    RTX  LUZON   LD        WESM   3PGBIL_SS2  10.7\n",
       "812404  2019-09-30    24    RTX  LUZON   LD        WESM   3QPPL_T5L1   0.0\n",
       "812405  2019-09-30    24    RTX  LUZON   LD        WESM    3STAR_SS4   0.0\n",
       "\n",
       "[573134 rows x 8 columns]"
      ],
      "text/html": "<div>\n<style scoped>\n    .dataframe tbody tr th:only-of-type {\n        vertical-align: middle;\n    }\n\n    .dataframe tbody tr th {\n        vertical-align: top;\n    }\n\n    .dataframe thead th {\n        text-align: right;\n    }\n</style>\n<table border=\"1\" class=\"dataframe\">\n  <thead>\n    <tr style=\"text-align: right;\">\n      <th></th>\n      <th>date</th>\n      <th>hour</th>\n      <th>report</th>\n      <th>region</th>\n      <th>type</th>\n      <th>participant</th>\n      <th>resource</th>\n      <th>mw</th>\n    </tr>\n  </thead>\n  <tbody>\n    <tr>\n      <th>0</th>\n      <td>2019-07-01</td>\n      <td>1</td>\n      <td>RTX</td>\n      <td>LUZON</td>\n      <td>LD</td>\n      <td>WESMTMP</td>\n      <td>1AEC_L01</td>\n      <td>38.5</td>\n    </tr>\n    <tr>\n      <th>1</th>\n      <td>2019-07-01</td>\n      <td>1</td>\n      <td>RTX</td>\n      <td>LUZON</td>\n      <td>LD</td>\n      <td>WESM</td>\n      <td>1AMBUK_SS</td>\n      <td>0.0</td>\n    </tr>\n    <tr>\n      <th>2</th>\n      <td>2019-07-01</td>\n      <td>1</td>\n      <td>RTX</td>\n      <td>LUZON</td>\n      <td>LD</td>\n      <td>LUECO</td>\n      <td>1BAUAN_T1L1</td>\n      <td>21.8</td>\n    </tr>\n    <tr>\n      <th>3</th>\n      <td>2019-07-01</td>\n      <td>1</td>\n      <td>RTX</td>\n      <td>LUZON</td>\n      <td>LD</td>\n      <td>WESM</td>\n      <td>1BPPC_SS</td>\n      <td>0.0</td>\n    </tr>\n    <tr>\n      <th>4</th>\n      <td>2019-07-01</td>\n      <td>1</td>\n      <td>RTX</td>\n      <td>LUZON</td>\n      <td>LD</td>\n      <td>WESM</td>\n      <td>1CBNTU_SS</td>\n      <td>0.0</td>\n    </tr>\n    <tr>\n      <th>...</th>\n      <td>...</td>\n      <td>...</td>\n      <td>...</td>\n      <td>...</td>\n      <td>...</td>\n      <td>...</td>\n      <td>...</td>\n      <td>...</td>\n    </tr>\n    <tr>\n      <th>812401</th>\n      <td>2019-09-30</td>\n      <td>24</td>\n      <td>RTX</td>\n      <td>LUZON</td>\n      <td>LD</td>\n      <td>WESM</td>\n      <td>3MKBNB_SS</td>\n      <td>4.6</td>\n    </tr>\n    <tr>\n      <th>812402</th>\n      <td>2019-09-30</td>\n      <td>24</td>\n      <td>RTX</td>\n      <td>LUZON</td>\n      <td>LD</td>\n      <td>WESM</td>\n      <td>3MKBNE_SS</td>\n      <td>1.0</td>\n    </tr>\n    <tr>\n      <th>812403</th>\n      <td>2019-09-30</td>\n      <td>24</td>\n      <td>RTX</td>\n      <td>LUZON</td>\n      <td>LD</td>\n      <td>WESM</td>\n      <td>3PGBIL_SS2</td>\n      <td>10.7</td>\n    </tr>\n    <tr>\n      <th>812404</th>\n      <td>2019-09-30</td>\n      <td>24</td>\n      <td>RTX</td>\n      <td>LUZON</td>\n      <td>LD</td>\n      <td>WESM</td>\n      <td>3QPPL_T5L1</td>\n      <td>0.0</td>\n    </tr>\n    <tr>\n      <th>812405</th>\n      <td>2019-09-30</td>\n      <td>24</td>\n      <td>RTX</td>\n      <td>LUZON</td>\n      <td>LD</td>\n      <td>WESM</td>\n      <td>3STAR_SS4</td>\n      <td>0.0</td>\n    </tr>\n  </tbody>\n</table>\n<p>573134 rows × 8 columns</p>\n</div>"
     },
     "metadata": {},
     "execution_count": 153
    }
   ],
   "source": [
    "dfq3 = pd.read_csv(r'C:\\Users\\William\\Desktop\\RTX_LD\\RTX_2019Q3.csv')\n",
    "dfq3 = dfq3[dfq3.region != 'VISAYAS']\n",
    "dfq3 = dfq3.drop('price',axis = 1)\n",
    "dfq3"
   ]
  },
  {
   "cell_type": "code",
   "execution_count": 154,
   "metadata": {},
   "outputs": [
    {
     "output_type": "execute_result",
     "data": {
      "text/plain": [
       "              date  hour report region type participant     resource    mw\n",
       "0       2019-10-01     1    RTX  LUZON   LD       LUECO  1BAUAN_T1L1  20.8\n",
       "1       2019-10-01     1    RTX  LUZON   LD      LUELCO  1BAUAN_T1L2   0.0\n",
       "2       2019-10-01     1    RTX  LUZON   LD   HOLCIMBAC  1BAUAN_T2L2  17.7\n",
       "3       2019-10-01     1    RTX  LUZON   LD   HOLCIMBAC  1BCNOT_T1L1  10.6\n",
       "4       2019-10-01     1    RTX  LUZON   LD        WESM  1BYOMB_T1L1   7.9\n",
       "...            ...   ...    ...    ...  ...         ...          ...   ...\n",
       "809184  2019-12-31    24    RTX  LUZON   LD     WESMTMP  3MLAYA_T2L2  44.6\n",
       "809185  2019-12-31    24    RTX  LUZON   LD        WESM  3NAG_CSRC2B   9.6\n",
       "809186  2019-12-31    24    RTX  LUZON   LD        WESM    3STAR_SS1   0.0\n",
       "809187  2019-12-31    24    RTX  LUZON   LD        WESM    3STAR_SS4   0.0\n",
       "809188  2019-12-31    24    RTX  LUZON   LD        WESM  3TAYAB_T1L2  15.8\n",
       "\n",
       "[570854 rows x 8 columns]"
      ],
      "text/html": "<div>\n<style scoped>\n    .dataframe tbody tr th:only-of-type {\n        vertical-align: middle;\n    }\n\n    .dataframe tbody tr th {\n        vertical-align: top;\n    }\n\n    .dataframe thead th {\n        text-align: right;\n    }\n</style>\n<table border=\"1\" class=\"dataframe\">\n  <thead>\n    <tr style=\"text-align: right;\">\n      <th></th>\n      <th>date</th>\n      <th>hour</th>\n      <th>report</th>\n      <th>region</th>\n      <th>type</th>\n      <th>participant</th>\n      <th>resource</th>\n      <th>mw</th>\n    </tr>\n  </thead>\n  <tbody>\n    <tr>\n      <th>0</th>\n      <td>2019-10-01</td>\n      <td>1</td>\n      <td>RTX</td>\n      <td>LUZON</td>\n      <td>LD</td>\n      <td>LUECO</td>\n      <td>1BAUAN_T1L1</td>\n      <td>20.8</td>\n    </tr>\n    <tr>\n      <th>1</th>\n      <td>2019-10-01</td>\n      <td>1</td>\n      <td>RTX</td>\n      <td>LUZON</td>\n      <td>LD</td>\n      <td>LUELCO</td>\n      <td>1BAUAN_T1L2</td>\n      <td>0.0</td>\n    </tr>\n    <tr>\n      <th>2</th>\n      <td>2019-10-01</td>\n      <td>1</td>\n      <td>RTX</td>\n      <td>LUZON</td>\n      <td>LD</td>\n      <td>HOLCIMBAC</td>\n      <td>1BAUAN_T2L2</td>\n      <td>17.7</td>\n    </tr>\n    <tr>\n      <th>3</th>\n      <td>2019-10-01</td>\n      <td>1</td>\n      <td>RTX</td>\n      <td>LUZON</td>\n      <td>LD</td>\n      <td>HOLCIMBAC</td>\n      <td>1BCNOT_T1L1</td>\n      <td>10.6</td>\n    </tr>\n    <tr>\n      <th>4</th>\n      <td>2019-10-01</td>\n      <td>1</td>\n      <td>RTX</td>\n      <td>LUZON</td>\n      <td>LD</td>\n      <td>WESM</td>\n      <td>1BYOMB_T1L1</td>\n      <td>7.9</td>\n    </tr>\n    <tr>\n      <th>...</th>\n      <td>...</td>\n      <td>...</td>\n      <td>...</td>\n      <td>...</td>\n      <td>...</td>\n      <td>...</td>\n      <td>...</td>\n      <td>...</td>\n    </tr>\n    <tr>\n      <th>809184</th>\n      <td>2019-12-31</td>\n      <td>24</td>\n      <td>RTX</td>\n      <td>LUZON</td>\n      <td>LD</td>\n      <td>WESMTMP</td>\n      <td>3MLAYA_T2L2</td>\n      <td>44.6</td>\n    </tr>\n    <tr>\n      <th>809185</th>\n      <td>2019-12-31</td>\n      <td>24</td>\n      <td>RTX</td>\n      <td>LUZON</td>\n      <td>LD</td>\n      <td>WESM</td>\n      <td>3NAG_CSRC2B</td>\n      <td>9.6</td>\n    </tr>\n    <tr>\n      <th>809186</th>\n      <td>2019-12-31</td>\n      <td>24</td>\n      <td>RTX</td>\n      <td>LUZON</td>\n      <td>LD</td>\n      <td>WESM</td>\n      <td>3STAR_SS1</td>\n      <td>0.0</td>\n    </tr>\n    <tr>\n      <th>809187</th>\n      <td>2019-12-31</td>\n      <td>24</td>\n      <td>RTX</td>\n      <td>LUZON</td>\n      <td>LD</td>\n      <td>WESM</td>\n      <td>3STAR_SS4</td>\n      <td>0.0</td>\n    </tr>\n    <tr>\n      <th>809188</th>\n      <td>2019-12-31</td>\n      <td>24</td>\n      <td>RTX</td>\n      <td>LUZON</td>\n      <td>LD</td>\n      <td>WESM</td>\n      <td>3TAYAB_T1L2</td>\n      <td>15.8</td>\n    </tr>\n  </tbody>\n</table>\n<p>570854 rows × 8 columns</p>\n</div>"
     },
     "metadata": {},
     "execution_count": 154
    }
   ],
   "source": [
    "dfq4 = pd.read_csv(r'C:\\Users\\William\\Desktop\\RTX_LD\\RTX_2019Q4.csv')\n",
    "dfq4 = dfq4[dfq4.region != 'VISAYAS']\n",
    "dfq4 = dfq4.drop('price',axis = 1)\n",
    "dfq4"
   ]
  },
  {
   "cell_type": "code",
   "execution_count": 162,
   "metadata": {},
   "outputs": [],
   "source": [
    "#dfq1.to_csv(r'C:\\Users\\William\\Desktop\\RTX_LD\\Test\\q1.csv',index=False)"
   ]
  },
  {
   "cell_type": "code",
   "execution_count": 163,
   "metadata": {},
   "outputs": [],
   "source": [
    "#dfq2.to_csv(r'C:\\Users\\William\\Desktop\\RTX_LD\\Test\\q2.csv',index=False)"
   ]
  },
  {
   "cell_type": "code",
   "execution_count": 164,
   "metadata": {},
   "outputs": [],
   "source": [
    "#dfq3.to_csv(r'C:\\Users\\William\\Desktop\\RTX_LD\\Test\\q3.csv',index=False)"
   ]
  },
  {
   "cell_type": "code",
   "execution_count": 165,
   "metadata": {},
   "outputs": [],
   "source": [
    "#dfq4.to_csv(r'C:\\Users\\William\\Desktop\\RTX_LD\\Test\\q4.csv',index=False)"
   ]
  },
  {
   "cell_type": "code",
   "execution_count": 186,
   "metadata": {},
   "outputs": [
    {
     "output_type": "execute_result",
     "data": {
      "text/plain": [
       "             date  hour report region type participant     resource    mw\n",
       "0        1/1/2019     1    RTX  LUZON   LD     WESMTMP  1ANGAT_T5L1   0.0\n",
       "1        1/1/2019     1    RTX  LUZON   LD        WESM  1BALNEO_L01  50.4\n",
       "2        1/1/2019     1    RTX  LUZON   LD      LUELCO  1BAUAN_T1L2   0.0\n",
       "3        1/1/2019     1    RTX  LUZON   LD        WESM  1BINGA_T1L1   0.0\n",
       "4        1/1/2019     1    RTX  LUZON   LD        WESM  1BOTOL_T1L2  13.8\n",
       "...           ...   ...    ...    ...  ...         ...          ...   ...\n",
       "556702  3/31/2019    24    RTX  LUZON   LD        WESM    3QPPL_SU1   0.0\n",
       "556703  3/31/2019    24    RTX  LUZON   LD        WESM    3QPPL_SU2   0.0\n",
       "556704  3/31/2019    24    RTX  LUZON   LD        WESM    3STAR_SS2   0.0\n",
       "556705  3/31/2019    24    RTX  LUZON   LD        WESM    3TAYAB_SS   0.0\n",
       "556706  3/31/2019    24    RTX  LUZON   LD        WESM    3TIWIC_SS   2.5\n",
       "\n",
       "[556707 rows x 8 columns]"
      ],
      "text/html": "<div>\n<style scoped>\n    .dataframe tbody tr th:only-of-type {\n        vertical-align: middle;\n    }\n\n    .dataframe tbody tr th {\n        vertical-align: top;\n    }\n\n    .dataframe thead th {\n        text-align: right;\n    }\n</style>\n<table border=\"1\" class=\"dataframe\">\n  <thead>\n    <tr style=\"text-align: right;\">\n      <th></th>\n      <th>date</th>\n      <th>hour</th>\n      <th>report</th>\n      <th>region</th>\n      <th>type</th>\n      <th>participant</th>\n      <th>resource</th>\n      <th>mw</th>\n    </tr>\n  </thead>\n  <tbody>\n    <tr>\n      <th>0</th>\n      <td>1/1/2019</td>\n      <td>1</td>\n      <td>RTX</td>\n      <td>LUZON</td>\n      <td>LD</td>\n      <td>WESMTMP</td>\n      <td>1ANGAT_T5L1</td>\n      <td>0.0</td>\n    </tr>\n    <tr>\n      <th>1</th>\n      <td>1/1/2019</td>\n      <td>1</td>\n      <td>RTX</td>\n      <td>LUZON</td>\n      <td>LD</td>\n      <td>WESM</td>\n      <td>1BALNEO_L01</td>\n      <td>50.4</td>\n    </tr>\n    <tr>\n      <th>2</th>\n      <td>1/1/2019</td>\n      <td>1</td>\n      <td>RTX</td>\n      <td>LUZON</td>\n      <td>LD</td>\n      <td>LUELCO</td>\n      <td>1BAUAN_T1L2</td>\n      <td>0.0</td>\n    </tr>\n    <tr>\n      <th>3</th>\n      <td>1/1/2019</td>\n      <td>1</td>\n      <td>RTX</td>\n      <td>LUZON</td>\n      <td>LD</td>\n      <td>WESM</td>\n      <td>1BINGA_T1L1</td>\n      <td>0.0</td>\n    </tr>\n    <tr>\n      <th>4</th>\n      <td>1/1/2019</td>\n      <td>1</td>\n      <td>RTX</td>\n      <td>LUZON</td>\n      <td>LD</td>\n      <td>WESM</td>\n      <td>1BOTOL_T1L2</td>\n      <td>13.8</td>\n    </tr>\n    <tr>\n      <th>...</th>\n      <td>...</td>\n      <td>...</td>\n      <td>...</td>\n      <td>...</td>\n      <td>...</td>\n      <td>...</td>\n      <td>...</td>\n      <td>...</td>\n    </tr>\n    <tr>\n      <th>556702</th>\n      <td>3/31/2019</td>\n      <td>24</td>\n      <td>RTX</td>\n      <td>LUZON</td>\n      <td>LD</td>\n      <td>WESM</td>\n      <td>3QPPL_SU1</td>\n      <td>0.0</td>\n    </tr>\n    <tr>\n      <th>556703</th>\n      <td>3/31/2019</td>\n      <td>24</td>\n      <td>RTX</td>\n      <td>LUZON</td>\n      <td>LD</td>\n      <td>WESM</td>\n      <td>3QPPL_SU2</td>\n      <td>0.0</td>\n    </tr>\n    <tr>\n      <th>556704</th>\n      <td>3/31/2019</td>\n      <td>24</td>\n      <td>RTX</td>\n      <td>LUZON</td>\n      <td>LD</td>\n      <td>WESM</td>\n      <td>3STAR_SS2</td>\n      <td>0.0</td>\n    </tr>\n    <tr>\n      <th>556705</th>\n      <td>3/31/2019</td>\n      <td>24</td>\n      <td>RTX</td>\n      <td>LUZON</td>\n      <td>LD</td>\n      <td>WESM</td>\n      <td>3TAYAB_SS</td>\n      <td>0.0</td>\n    </tr>\n    <tr>\n      <th>556706</th>\n      <td>3/31/2019</td>\n      <td>24</td>\n      <td>RTX</td>\n      <td>LUZON</td>\n      <td>LD</td>\n      <td>WESM</td>\n      <td>3TIWIC_SS</td>\n      <td>2.5</td>\n    </tr>\n  </tbody>\n</table>\n<p>556707 rows × 8 columns</p>\n</div>"
     },
     "metadata": {},
     "execution_count": 186
    }
   ],
   "source": [
    "dfq1 = pd.read_csv(r'C:\\Users\\William\\Desktop\\RTX_LD\\Test\\q1.csv')\n",
    "dfq1"
   ]
  },
  {
   "cell_type": "code",
   "execution_count": 187,
   "metadata": {},
   "outputs": [
    {
     "output_type": "execute_result",
     "data": {
      "text/plain": [
       "              date  hour report region type participant     resource     mw\n",
       "0       2019-04-01     1    RTX  LUZON   LD        WESM    1BCNOT_SS    0.0\n",
       "1       2019-04-01     1    RTX  LUZON   LD        WESM   1BTPP_T3L1    0.0\n",
       "2       2019-04-01     1    RTX  LUZON   LD        WESM   1BTPP_T3L2   17.8\n",
       "3       2019-04-01     1    RTX  LUZON   LD     WESMTMP  1CBNTU_T1L1   39.0\n",
       "4       2019-04-01     1    RTX  LUZON   LD     WESMTMP  1CURIM_T1L2    4.2\n",
       "...            ...   ...    ...    ...  ...         ...          ...    ...\n",
       "563736  2019-06-30    24    RTX  LUZON   LD        WESM    3MKBNB_SS    4.4\n",
       "563737  2019-06-30    24    RTX  LUZON   LD        WESM    3MKBND_SS    1.0\n",
       "563738  2019-06-30    24    RTX  LUZON   LD        WESM    3ORMAT_SS    0.0\n",
       "563739  2019-06-30    24    RTX  LUZON   LD        WESM    3STAR_SS2    0.0\n",
       "563740  2019-06-30    24    RTX  LUZON   LD     MERALCO  3STROS_T1L1  277.0\n",
       "\n",
       "[563741 rows x 8 columns]"
      ],
      "text/html": "<div>\n<style scoped>\n    .dataframe tbody tr th:only-of-type {\n        vertical-align: middle;\n    }\n\n    .dataframe tbody tr th {\n        vertical-align: top;\n    }\n\n    .dataframe thead th {\n        text-align: right;\n    }\n</style>\n<table border=\"1\" class=\"dataframe\">\n  <thead>\n    <tr style=\"text-align: right;\">\n      <th></th>\n      <th>date</th>\n      <th>hour</th>\n      <th>report</th>\n      <th>region</th>\n      <th>type</th>\n      <th>participant</th>\n      <th>resource</th>\n      <th>mw</th>\n    </tr>\n  </thead>\n  <tbody>\n    <tr>\n      <th>0</th>\n      <td>2019-04-01</td>\n      <td>1</td>\n      <td>RTX</td>\n      <td>LUZON</td>\n      <td>LD</td>\n      <td>WESM</td>\n      <td>1BCNOT_SS</td>\n      <td>0.0</td>\n    </tr>\n    <tr>\n      <th>1</th>\n      <td>2019-04-01</td>\n      <td>1</td>\n      <td>RTX</td>\n      <td>LUZON</td>\n      <td>LD</td>\n      <td>WESM</td>\n      <td>1BTPP_T3L1</td>\n      <td>0.0</td>\n    </tr>\n    <tr>\n      <th>2</th>\n      <td>2019-04-01</td>\n      <td>1</td>\n      <td>RTX</td>\n      <td>LUZON</td>\n      <td>LD</td>\n      <td>WESM</td>\n      <td>1BTPP_T3L2</td>\n      <td>17.8</td>\n    </tr>\n    <tr>\n      <th>3</th>\n      <td>2019-04-01</td>\n      <td>1</td>\n      <td>RTX</td>\n      <td>LUZON</td>\n      <td>LD</td>\n      <td>WESMTMP</td>\n      <td>1CBNTU_T1L1</td>\n      <td>39.0</td>\n    </tr>\n    <tr>\n      <th>4</th>\n      <td>2019-04-01</td>\n      <td>1</td>\n      <td>RTX</td>\n      <td>LUZON</td>\n      <td>LD</td>\n      <td>WESMTMP</td>\n      <td>1CURIM_T1L2</td>\n      <td>4.2</td>\n    </tr>\n    <tr>\n      <th>...</th>\n      <td>...</td>\n      <td>...</td>\n      <td>...</td>\n      <td>...</td>\n      <td>...</td>\n      <td>...</td>\n      <td>...</td>\n      <td>...</td>\n    </tr>\n    <tr>\n      <th>563736</th>\n      <td>2019-06-30</td>\n      <td>24</td>\n      <td>RTX</td>\n      <td>LUZON</td>\n      <td>LD</td>\n      <td>WESM</td>\n      <td>3MKBNB_SS</td>\n      <td>4.4</td>\n    </tr>\n    <tr>\n      <th>563737</th>\n      <td>2019-06-30</td>\n      <td>24</td>\n      <td>RTX</td>\n      <td>LUZON</td>\n      <td>LD</td>\n      <td>WESM</td>\n      <td>3MKBND_SS</td>\n      <td>1.0</td>\n    </tr>\n    <tr>\n      <th>563738</th>\n      <td>2019-06-30</td>\n      <td>24</td>\n      <td>RTX</td>\n      <td>LUZON</td>\n      <td>LD</td>\n      <td>WESM</td>\n      <td>3ORMAT_SS</td>\n      <td>0.0</td>\n    </tr>\n    <tr>\n      <th>563739</th>\n      <td>2019-06-30</td>\n      <td>24</td>\n      <td>RTX</td>\n      <td>LUZON</td>\n      <td>LD</td>\n      <td>WESM</td>\n      <td>3STAR_SS2</td>\n      <td>0.0</td>\n    </tr>\n    <tr>\n      <th>563740</th>\n      <td>2019-06-30</td>\n      <td>24</td>\n      <td>RTX</td>\n      <td>LUZON</td>\n      <td>LD</td>\n      <td>MERALCO</td>\n      <td>3STROS_T1L1</td>\n      <td>277.0</td>\n    </tr>\n  </tbody>\n</table>\n<p>563741 rows × 8 columns</p>\n</div>"
     },
     "metadata": {},
     "execution_count": 187
    }
   ],
   "source": [
    "dfq2 = pd.read_csv(r'C:\\Users\\William\\Desktop\\RTX_LD\\Test\\q2.csv')\n",
    "dfq2"
   ]
  },
  {
   "cell_type": "code",
   "execution_count": 188,
   "metadata": {},
   "outputs": [
    {
     "output_type": "execute_result",
     "data": {
      "text/plain": [
       "              date  hour report region type participant     resource    mw\n",
       "0       2019-07-01     1    RTX  LUZON   LD     WESMTMP     1AEC_L01  38.5\n",
       "1       2019-07-01     1    RTX  LUZON   LD        WESM    1AMBUK_SS   0.0\n",
       "2       2019-07-01     1    RTX  LUZON   LD       LUECO  1BAUAN_T1L1  21.8\n",
       "3       2019-07-01     1    RTX  LUZON   LD        WESM     1BPPC_SS   0.0\n",
       "4       2019-07-01     1    RTX  LUZON   LD        WESM    1CBNTU_SS   0.0\n",
       "...            ...   ...    ...    ...  ...         ...          ...   ...\n",
       "573129  2019-09-30    24    RTX  LUZON   LD        WESM    3MKBNB_SS   4.6\n",
       "573130  2019-09-30    24    RTX  LUZON   LD        WESM    3MKBNE_SS   1.0\n",
       "573131  2019-09-30    24    RTX  LUZON   LD        WESM   3PGBIL_SS2  10.7\n",
       "573132  2019-09-30    24    RTX  LUZON   LD        WESM   3QPPL_T5L1   0.0\n",
       "573133  2019-09-30    24    RTX  LUZON   LD        WESM    3STAR_SS4   0.0\n",
       "\n",
       "[573134 rows x 8 columns]"
      ],
      "text/html": "<div>\n<style scoped>\n    .dataframe tbody tr th:only-of-type {\n        vertical-align: middle;\n    }\n\n    .dataframe tbody tr th {\n        vertical-align: top;\n    }\n\n    .dataframe thead th {\n        text-align: right;\n    }\n</style>\n<table border=\"1\" class=\"dataframe\">\n  <thead>\n    <tr style=\"text-align: right;\">\n      <th></th>\n      <th>date</th>\n      <th>hour</th>\n      <th>report</th>\n      <th>region</th>\n      <th>type</th>\n      <th>participant</th>\n      <th>resource</th>\n      <th>mw</th>\n    </tr>\n  </thead>\n  <tbody>\n    <tr>\n      <th>0</th>\n      <td>2019-07-01</td>\n      <td>1</td>\n      <td>RTX</td>\n      <td>LUZON</td>\n      <td>LD</td>\n      <td>WESMTMP</td>\n      <td>1AEC_L01</td>\n      <td>38.5</td>\n    </tr>\n    <tr>\n      <th>1</th>\n      <td>2019-07-01</td>\n      <td>1</td>\n      <td>RTX</td>\n      <td>LUZON</td>\n      <td>LD</td>\n      <td>WESM</td>\n      <td>1AMBUK_SS</td>\n      <td>0.0</td>\n    </tr>\n    <tr>\n      <th>2</th>\n      <td>2019-07-01</td>\n      <td>1</td>\n      <td>RTX</td>\n      <td>LUZON</td>\n      <td>LD</td>\n      <td>LUECO</td>\n      <td>1BAUAN_T1L1</td>\n      <td>21.8</td>\n    </tr>\n    <tr>\n      <th>3</th>\n      <td>2019-07-01</td>\n      <td>1</td>\n      <td>RTX</td>\n      <td>LUZON</td>\n      <td>LD</td>\n      <td>WESM</td>\n      <td>1BPPC_SS</td>\n      <td>0.0</td>\n    </tr>\n    <tr>\n      <th>4</th>\n      <td>2019-07-01</td>\n      <td>1</td>\n      <td>RTX</td>\n      <td>LUZON</td>\n      <td>LD</td>\n      <td>WESM</td>\n      <td>1CBNTU_SS</td>\n      <td>0.0</td>\n    </tr>\n    <tr>\n      <th>...</th>\n      <td>...</td>\n      <td>...</td>\n      <td>...</td>\n      <td>...</td>\n      <td>...</td>\n      <td>...</td>\n      <td>...</td>\n      <td>...</td>\n    </tr>\n    <tr>\n      <th>573129</th>\n      <td>2019-09-30</td>\n      <td>24</td>\n      <td>RTX</td>\n      <td>LUZON</td>\n      <td>LD</td>\n      <td>WESM</td>\n      <td>3MKBNB_SS</td>\n      <td>4.6</td>\n    </tr>\n    <tr>\n      <th>573130</th>\n      <td>2019-09-30</td>\n      <td>24</td>\n      <td>RTX</td>\n      <td>LUZON</td>\n      <td>LD</td>\n      <td>WESM</td>\n      <td>3MKBNE_SS</td>\n      <td>1.0</td>\n    </tr>\n    <tr>\n      <th>573131</th>\n      <td>2019-09-30</td>\n      <td>24</td>\n      <td>RTX</td>\n      <td>LUZON</td>\n      <td>LD</td>\n      <td>WESM</td>\n      <td>3PGBIL_SS2</td>\n      <td>10.7</td>\n    </tr>\n    <tr>\n      <th>573132</th>\n      <td>2019-09-30</td>\n      <td>24</td>\n      <td>RTX</td>\n      <td>LUZON</td>\n      <td>LD</td>\n      <td>WESM</td>\n      <td>3QPPL_T5L1</td>\n      <td>0.0</td>\n    </tr>\n    <tr>\n      <th>573133</th>\n      <td>2019-09-30</td>\n      <td>24</td>\n      <td>RTX</td>\n      <td>LUZON</td>\n      <td>LD</td>\n      <td>WESM</td>\n      <td>3STAR_SS4</td>\n      <td>0.0</td>\n    </tr>\n  </tbody>\n</table>\n<p>573134 rows × 8 columns</p>\n</div>"
     },
     "metadata": {},
     "execution_count": 188
    }
   ],
   "source": [
    "dfq3 = pd.read_csv(r'C:\\Users\\William\\Desktop\\RTX_LD\\Test\\q3.csv')\n",
    "dfq3"
   ]
  },
  {
   "cell_type": "code",
   "execution_count": 189,
   "metadata": {},
   "outputs": [
    {
     "output_type": "execute_result",
     "data": {
      "text/plain": [
       "              date  hour report region type participant     resource    mw\n",
       "0       2019-10-01     1    RTX  LUZON   LD       LUECO  1BAUAN_T1L1  20.8\n",
       "1       2019-10-01     1    RTX  LUZON   LD      LUELCO  1BAUAN_T1L2   0.0\n",
       "2       2019-10-01     1    RTX  LUZON   LD   HOLCIMBAC  1BAUAN_T2L2  17.7\n",
       "3       2019-10-01     1    RTX  LUZON   LD   HOLCIMBAC  1BCNOT_T1L1  10.6\n",
       "4       2019-10-01     1    RTX  LUZON   LD        WESM  1BYOMB_T1L1   7.9\n",
       "...            ...   ...    ...    ...  ...         ...          ...   ...\n",
       "570849  2019-12-31    24    RTX  LUZON   LD     WESMTMP  3MLAYA_T2L2  44.6\n",
       "570850  2019-12-31    24    RTX  LUZON   LD        WESM  3NAG_CSRC2B   9.6\n",
       "570851  2019-12-31    24    RTX  LUZON   LD        WESM    3STAR_SS1   0.0\n",
       "570852  2019-12-31    24    RTX  LUZON   LD        WESM    3STAR_SS4   0.0\n",
       "570853  2019-12-31    24    RTX  LUZON   LD        WESM  3TAYAB_T1L2  15.8\n",
       "\n",
       "[570854 rows x 8 columns]"
      ],
      "text/html": "<div>\n<style scoped>\n    .dataframe tbody tr th:only-of-type {\n        vertical-align: middle;\n    }\n\n    .dataframe tbody tr th {\n        vertical-align: top;\n    }\n\n    .dataframe thead th {\n        text-align: right;\n    }\n</style>\n<table border=\"1\" class=\"dataframe\">\n  <thead>\n    <tr style=\"text-align: right;\">\n      <th></th>\n      <th>date</th>\n      <th>hour</th>\n      <th>report</th>\n      <th>region</th>\n      <th>type</th>\n      <th>participant</th>\n      <th>resource</th>\n      <th>mw</th>\n    </tr>\n  </thead>\n  <tbody>\n    <tr>\n      <th>0</th>\n      <td>2019-10-01</td>\n      <td>1</td>\n      <td>RTX</td>\n      <td>LUZON</td>\n      <td>LD</td>\n      <td>LUECO</td>\n      <td>1BAUAN_T1L1</td>\n      <td>20.8</td>\n    </tr>\n    <tr>\n      <th>1</th>\n      <td>2019-10-01</td>\n      <td>1</td>\n      <td>RTX</td>\n      <td>LUZON</td>\n      <td>LD</td>\n      <td>LUELCO</td>\n      <td>1BAUAN_T1L2</td>\n      <td>0.0</td>\n    </tr>\n    <tr>\n      <th>2</th>\n      <td>2019-10-01</td>\n      <td>1</td>\n      <td>RTX</td>\n      <td>LUZON</td>\n      <td>LD</td>\n      <td>HOLCIMBAC</td>\n      <td>1BAUAN_T2L2</td>\n      <td>17.7</td>\n    </tr>\n    <tr>\n      <th>3</th>\n      <td>2019-10-01</td>\n      <td>1</td>\n      <td>RTX</td>\n      <td>LUZON</td>\n      <td>LD</td>\n      <td>HOLCIMBAC</td>\n      <td>1BCNOT_T1L1</td>\n      <td>10.6</td>\n    </tr>\n    <tr>\n      <th>4</th>\n      <td>2019-10-01</td>\n      <td>1</td>\n      <td>RTX</td>\n      <td>LUZON</td>\n      <td>LD</td>\n      <td>WESM</td>\n      <td>1BYOMB_T1L1</td>\n      <td>7.9</td>\n    </tr>\n    <tr>\n      <th>...</th>\n      <td>...</td>\n      <td>...</td>\n      <td>...</td>\n      <td>...</td>\n      <td>...</td>\n      <td>...</td>\n      <td>...</td>\n      <td>...</td>\n    </tr>\n    <tr>\n      <th>570849</th>\n      <td>2019-12-31</td>\n      <td>24</td>\n      <td>RTX</td>\n      <td>LUZON</td>\n      <td>LD</td>\n      <td>WESMTMP</td>\n      <td>3MLAYA_T2L2</td>\n      <td>44.6</td>\n    </tr>\n    <tr>\n      <th>570850</th>\n      <td>2019-12-31</td>\n      <td>24</td>\n      <td>RTX</td>\n      <td>LUZON</td>\n      <td>LD</td>\n      <td>WESM</td>\n      <td>3NAG_CSRC2B</td>\n      <td>9.6</td>\n    </tr>\n    <tr>\n      <th>570851</th>\n      <td>2019-12-31</td>\n      <td>24</td>\n      <td>RTX</td>\n      <td>LUZON</td>\n      <td>LD</td>\n      <td>WESM</td>\n      <td>3STAR_SS1</td>\n      <td>0.0</td>\n    </tr>\n    <tr>\n      <th>570852</th>\n      <td>2019-12-31</td>\n      <td>24</td>\n      <td>RTX</td>\n      <td>LUZON</td>\n      <td>LD</td>\n      <td>WESM</td>\n      <td>3STAR_SS4</td>\n      <td>0.0</td>\n    </tr>\n    <tr>\n      <th>570853</th>\n      <td>2019-12-31</td>\n      <td>24</td>\n      <td>RTX</td>\n      <td>LUZON</td>\n      <td>LD</td>\n      <td>WESM</td>\n      <td>3TAYAB_T1L2</td>\n      <td>15.8</td>\n    </tr>\n  </tbody>\n</table>\n<p>570854 rows × 8 columns</p>\n</div>"
     },
     "metadata": {},
     "execution_count": 189
    }
   ],
   "source": [
    "dfq4 = pd.read_csv(r'C:\\Users\\William\\Desktop\\RTX_LD\\Test\\q4.csv')\n",
    "dfq4"
   ]
  },
  {
   "cell_type": "code",
   "execution_count": null,
   "metadata": {},
   "outputs": [],
   "source": []
  },
  {
   "cell_type": "code",
   "execution_count": 166,
   "metadata": {},
   "outputs": [],
   "source": [
    "#Test"
   ]
  },
  {
   "cell_type": "code",
   "execution_count": 190,
   "metadata": {},
   "outputs": [],
   "source": [
    "dfs = [dfq1, dfq2, dfq3, dfq4]"
   ]
  },
  {
   "cell_type": "code",
   "execution_count": 193,
   "metadata": {},
   "outputs": [],
   "source": [
    "combineddf = pd.concat(dfs,ignore_index=True)"
   ]
  },
  {
   "cell_type": "code",
   "execution_count": 194,
   "metadata": {},
   "outputs": [
    {
     "output_type": "execute_result",
     "data": {
      "text/plain": [
       "               date  hour report region type participant     resource    mw\n",
       "0          1/1/2019     1    RTX  LUZON   LD     WESMTMP  1ANGAT_T5L1   0.0\n",
       "1          1/1/2019     1    RTX  LUZON   LD        WESM  1BALNEO_L01  50.4\n",
       "2          1/1/2019     1    RTX  LUZON   LD      LUELCO  1BAUAN_T1L2   0.0\n",
       "3          1/1/2019     1    RTX  LUZON   LD        WESM  1BINGA_T1L1   0.0\n",
       "4          1/1/2019     1    RTX  LUZON   LD        WESM  1BOTOL_T1L2  13.8\n",
       "...             ...   ...    ...    ...  ...         ...          ...   ...\n",
       "2264431  2019-12-31    24    RTX  LUZON   LD     WESMTMP  3MLAYA_T2L2  44.6\n",
       "2264432  2019-12-31    24    RTX  LUZON   LD        WESM  3NAG_CSRC2B   9.6\n",
       "2264433  2019-12-31    24    RTX  LUZON   LD        WESM    3STAR_SS1   0.0\n",
       "2264434  2019-12-31    24    RTX  LUZON   LD        WESM    3STAR_SS4   0.0\n",
       "2264435  2019-12-31    24    RTX  LUZON   LD        WESM  3TAYAB_T1L2  15.8\n",
       "\n",
       "[2264436 rows x 8 columns]"
      ],
      "text/html": "<div>\n<style scoped>\n    .dataframe tbody tr th:only-of-type {\n        vertical-align: middle;\n    }\n\n    .dataframe tbody tr th {\n        vertical-align: top;\n    }\n\n    .dataframe thead th {\n        text-align: right;\n    }\n</style>\n<table border=\"1\" class=\"dataframe\">\n  <thead>\n    <tr style=\"text-align: right;\">\n      <th></th>\n      <th>date</th>\n      <th>hour</th>\n      <th>report</th>\n      <th>region</th>\n      <th>type</th>\n      <th>participant</th>\n      <th>resource</th>\n      <th>mw</th>\n    </tr>\n  </thead>\n  <tbody>\n    <tr>\n      <th>0</th>\n      <td>1/1/2019</td>\n      <td>1</td>\n      <td>RTX</td>\n      <td>LUZON</td>\n      <td>LD</td>\n      <td>WESMTMP</td>\n      <td>1ANGAT_T5L1</td>\n      <td>0.0</td>\n    </tr>\n    <tr>\n      <th>1</th>\n      <td>1/1/2019</td>\n      <td>1</td>\n      <td>RTX</td>\n      <td>LUZON</td>\n      <td>LD</td>\n      <td>WESM</td>\n      <td>1BALNEO_L01</td>\n      <td>50.4</td>\n    </tr>\n    <tr>\n      <th>2</th>\n      <td>1/1/2019</td>\n      <td>1</td>\n      <td>RTX</td>\n      <td>LUZON</td>\n      <td>LD</td>\n      <td>LUELCO</td>\n      <td>1BAUAN_T1L2</td>\n      <td>0.0</td>\n    </tr>\n    <tr>\n      <th>3</th>\n      <td>1/1/2019</td>\n      <td>1</td>\n      <td>RTX</td>\n      <td>LUZON</td>\n      <td>LD</td>\n      <td>WESM</td>\n      <td>1BINGA_T1L1</td>\n      <td>0.0</td>\n    </tr>\n    <tr>\n      <th>4</th>\n      <td>1/1/2019</td>\n      <td>1</td>\n      <td>RTX</td>\n      <td>LUZON</td>\n      <td>LD</td>\n      <td>WESM</td>\n      <td>1BOTOL_T1L2</td>\n      <td>13.8</td>\n    </tr>\n    <tr>\n      <th>...</th>\n      <td>...</td>\n      <td>...</td>\n      <td>...</td>\n      <td>...</td>\n      <td>...</td>\n      <td>...</td>\n      <td>...</td>\n      <td>...</td>\n    </tr>\n    <tr>\n      <th>2264431</th>\n      <td>2019-12-31</td>\n      <td>24</td>\n      <td>RTX</td>\n      <td>LUZON</td>\n      <td>LD</td>\n      <td>WESMTMP</td>\n      <td>3MLAYA_T2L2</td>\n      <td>44.6</td>\n    </tr>\n    <tr>\n      <th>2264432</th>\n      <td>2019-12-31</td>\n      <td>24</td>\n      <td>RTX</td>\n      <td>LUZON</td>\n      <td>LD</td>\n      <td>WESM</td>\n      <td>3NAG_CSRC2B</td>\n      <td>9.6</td>\n    </tr>\n    <tr>\n      <th>2264433</th>\n      <td>2019-12-31</td>\n      <td>24</td>\n      <td>RTX</td>\n      <td>LUZON</td>\n      <td>LD</td>\n      <td>WESM</td>\n      <td>3STAR_SS1</td>\n      <td>0.0</td>\n    </tr>\n    <tr>\n      <th>2264434</th>\n      <td>2019-12-31</td>\n      <td>24</td>\n      <td>RTX</td>\n      <td>LUZON</td>\n      <td>LD</td>\n      <td>WESM</td>\n      <td>3STAR_SS4</td>\n      <td>0.0</td>\n    </tr>\n    <tr>\n      <th>2264435</th>\n      <td>2019-12-31</td>\n      <td>24</td>\n      <td>RTX</td>\n      <td>LUZON</td>\n      <td>LD</td>\n      <td>WESM</td>\n      <td>3TAYAB_T1L2</td>\n      <td>15.8</td>\n    </tr>\n  </tbody>\n</table>\n<p>2264436 rows × 8 columns</p>\n</div>"
     },
     "metadata": {},
     "execution_count": 194
    }
   ],
   "source": [
    "combineddf"
   ]
  },
  {
   "cell_type": "code",
   "execution_count": 197,
   "metadata": {},
   "outputs": [],
   "source": [
    "combineddf.to_csv(r'C:\\Users\\William\\Desktop\\RTX_LD\\Test\\combineddf.csv',index=False)"
   ]
  },
  {
   "cell_type": "code",
   "execution_count": null,
   "metadata": {},
   "outputs": [],
   "source": []
  }
 ]
}
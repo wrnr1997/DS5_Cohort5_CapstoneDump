{
 "metadata": {
  "language_info": {
   "codemirror_mode": {
    "name": "ipython",
    "version": 3
   },
   "file_extension": ".py",
   "mimetype": "text/x-python",
   "name": "python",
   "nbconvert_exporter": "python",
   "pygments_lexer": "ipython3",
   "version": "3.8.5-final"
  },
  "orig_nbformat": 2,
  "kernelspec": {
   "name": "python3",
   "display_name": "Python 3"
  }
 },
 "nbformat": 4,
 "nbformat_minor": 2,
 "cells": [
  {
   "cell_type": "code",
   "execution_count": 1,
   "metadata": {},
   "outputs": [],
   "source": [
    "import pandas as pd\n",
    "import json\n",
    "import matplotlib.pyplot as plt\n",
    "%matplotlib inline\n",
    "import matplotlib.dates as mdates\n",
    "from statsmodels.tsa.holtwinters import SimpleExpSmoothing, Holt\n",
    "import numpy as np\n",
    "import statsmodels.api as sm\n",
    "from pylab import rcParams"
   ]
  },
  {
   "cell_type": "code",
   "execution_count": 69,
   "metadata": {},
   "outputs": [],
   "source": [
    "from IPython.core.interactiveshell import InteractiveShell\n",
    "InteractiveShell.ast_node_interactivity = \"all\""
   ]
  },
  {
   "cell_type": "code",
   "execution_count": 2,
   "metadata": {},
   "outputs": [],
   "source": [
    "df = pd.read_csv('D:\\Capstone\\Hourly_Demand_Clean_FINAL.csv')"
   ]
  },
  {
   "cell_type": "code",
   "execution_count": 3,
   "metadata": {},
   "outputs": [
    {
     "output_type": "execute_result",
     "data": {
      "text/plain": [
       "                        date                       hour participant  \\\n",
       "0        2019-01-01 00:00:00  0 days 00:00:00.000000000        WESM   \n",
       "1        2019-01-01 00:00:00  0 days 00:00:00.000000000        WESM   \n",
       "2        2019-01-01 00:00:00  0 days 00:00:00.000000000        WESM   \n",
       "3        2019-01-01 00:00:00  0 days 00:00:00.000000000     WESMTMP   \n",
       "4        2019-01-01 00:00:00  0 days 00:00:00.000000000        WESM   \n",
       "...                      ...                        ...         ...   \n",
       "2445171  2020-03-28 00:00:00  0 days 23:00:00.000000000        WESM   \n",
       "2445172  2020-03-28 00:00:00  0 days 23:00:00.000000000        WESM   \n",
       "2445173  2020-03-28 00:00:00  0 days 23:00:00.000000000        WESM   \n",
       "2445174  2020-03-28 00:00:00  0 days 23:00:00.000000000        WESM   \n",
       "2445175  2020-03-28 00:00:00  0 days 23:00:00.000000000        WESM   \n",
       "\n",
       "            resource    mw    price  year  month  day  weekday  hour_int  \\\n",
       "0        1BALNEO_L01  50.4      NaN  2019      1    1        1         0   \n",
       "1        1BINGA_T1L1   0.0      NaN  2019      1    1        1         0   \n",
       "2        1BOTOL_T1L2  13.8      NaN  2019      1    1        1         0   \n",
       "3        1CBNTU_T1L1  33.3      NaN  2019      1    1        1         0   \n",
       "4        1CBN_CELCOR  24.3      NaN  2019      1    1        1         0   \n",
       "...              ...   ...      ...   ...    ...  ...      ...       ...   \n",
       "2445171  3MAKBA_T3L1   1.0  2307.96  2020      3   28        5        23   \n",
       "2445172  3NAG_CSRC2B   8.0  2182.42  2020      3   28        5        23   \n",
       "2445173  3NAG_CSRCO2  27.5  2182.42  2020      3   28        5        23   \n",
       "2445174    3ORMAT_SS   0.0  2307.96  2020      3   28        5        23   \n",
       "2445175    3QPPL_SU1   0.0  2253.60  2020      3   28        5        23   \n",
       "\n",
       "                   date_hour  \n",
       "0        2019-01-01 00:00:00  \n",
       "1        2019-01-01 00:00:00  \n",
       "2        2019-01-01 00:00:00  \n",
       "3        2019-01-01 00:00:00  \n",
       "4        2019-01-01 00:00:00  \n",
       "...                      ...  \n",
       "2445171  2020-03-28 23:00:00  \n",
       "2445172  2020-03-28 23:00:00  \n",
       "2445173  2020-03-28 23:00:00  \n",
       "2445174  2020-03-28 23:00:00  \n",
       "2445175  2020-03-28 23:00:00  \n",
       "\n",
       "[2445176 rows x 12 columns]"
      ],
      "text/html": "<div>\n<style scoped>\n    .dataframe tbody tr th:only-of-type {\n        vertical-align: middle;\n    }\n\n    .dataframe tbody tr th {\n        vertical-align: top;\n    }\n\n    .dataframe thead th {\n        text-align: right;\n    }\n</style>\n<table border=\"1\" class=\"dataframe\">\n  <thead>\n    <tr style=\"text-align: right;\">\n      <th></th>\n      <th>date</th>\n      <th>hour</th>\n      <th>participant</th>\n      <th>resource</th>\n      <th>mw</th>\n      <th>price</th>\n      <th>year</th>\n      <th>month</th>\n      <th>day</th>\n      <th>weekday</th>\n      <th>hour_int</th>\n      <th>date_hour</th>\n    </tr>\n  </thead>\n  <tbody>\n    <tr>\n      <th>0</th>\n      <td>2019-01-01 00:00:00</td>\n      <td>0 days 00:00:00.000000000</td>\n      <td>WESM</td>\n      <td>1BALNEO_L01</td>\n      <td>50.4</td>\n      <td>NaN</td>\n      <td>2019</td>\n      <td>1</td>\n      <td>1</td>\n      <td>1</td>\n      <td>0</td>\n      <td>2019-01-01 00:00:00</td>\n    </tr>\n    <tr>\n      <th>1</th>\n      <td>2019-01-01 00:00:00</td>\n      <td>0 days 00:00:00.000000000</td>\n      <td>WESM</td>\n      <td>1BINGA_T1L1</td>\n      <td>0.0</td>\n      <td>NaN</td>\n      <td>2019</td>\n      <td>1</td>\n      <td>1</td>\n      <td>1</td>\n      <td>0</td>\n      <td>2019-01-01 00:00:00</td>\n    </tr>\n    <tr>\n      <th>2</th>\n      <td>2019-01-01 00:00:00</td>\n      <td>0 days 00:00:00.000000000</td>\n      <td>WESM</td>\n      <td>1BOTOL_T1L2</td>\n      <td>13.8</td>\n      <td>NaN</td>\n      <td>2019</td>\n      <td>1</td>\n      <td>1</td>\n      <td>1</td>\n      <td>0</td>\n      <td>2019-01-01 00:00:00</td>\n    </tr>\n    <tr>\n      <th>3</th>\n      <td>2019-01-01 00:00:00</td>\n      <td>0 days 00:00:00.000000000</td>\n      <td>WESMTMP</td>\n      <td>1CBNTU_T1L1</td>\n      <td>33.3</td>\n      <td>NaN</td>\n      <td>2019</td>\n      <td>1</td>\n      <td>1</td>\n      <td>1</td>\n      <td>0</td>\n      <td>2019-01-01 00:00:00</td>\n    </tr>\n    <tr>\n      <th>4</th>\n      <td>2019-01-01 00:00:00</td>\n      <td>0 days 00:00:00.000000000</td>\n      <td>WESM</td>\n      <td>1CBN_CELCOR</td>\n      <td>24.3</td>\n      <td>NaN</td>\n      <td>2019</td>\n      <td>1</td>\n      <td>1</td>\n      <td>1</td>\n      <td>0</td>\n      <td>2019-01-01 00:00:00</td>\n    </tr>\n    <tr>\n      <th>...</th>\n      <td>...</td>\n      <td>...</td>\n      <td>...</td>\n      <td>...</td>\n      <td>...</td>\n      <td>...</td>\n      <td>...</td>\n      <td>...</td>\n      <td>...</td>\n      <td>...</td>\n      <td>...</td>\n      <td>...</td>\n    </tr>\n    <tr>\n      <th>2445171</th>\n      <td>2020-03-28 00:00:00</td>\n      <td>0 days 23:00:00.000000000</td>\n      <td>WESM</td>\n      <td>3MAKBA_T3L1</td>\n      <td>1.0</td>\n      <td>2307.96</td>\n      <td>2020</td>\n      <td>3</td>\n      <td>28</td>\n      <td>5</td>\n      <td>23</td>\n      <td>2020-03-28 23:00:00</td>\n    </tr>\n    <tr>\n      <th>2445172</th>\n      <td>2020-03-28 00:00:00</td>\n      <td>0 days 23:00:00.000000000</td>\n      <td>WESM</td>\n      <td>3NAG_CSRC2B</td>\n      <td>8.0</td>\n      <td>2182.42</td>\n      <td>2020</td>\n      <td>3</td>\n      <td>28</td>\n      <td>5</td>\n      <td>23</td>\n      <td>2020-03-28 23:00:00</td>\n    </tr>\n    <tr>\n      <th>2445173</th>\n      <td>2020-03-28 00:00:00</td>\n      <td>0 days 23:00:00.000000000</td>\n      <td>WESM</td>\n      <td>3NAG_CSRCO2</td>\n      <td>27.5</td>\n      <td>2182.42</td>\n      <td>2020</td>\n      <td>3</td>\n      <td>28</td>\n      <td>5</td>\n      <td>23</td>\n      <td>2020-03-28 23:00:00</td>\n    </tr>\n    <tr>\n      <th>2445174</th>\n      <td>2020-03-28 00:00:00</td>\n      <td>0 days 23:00:00.000000000</td>\n      <td>WESM</td>\n      <td>3ORMAT_SS</td>\n      <td>0.0</td>\n      <td>2307.96</td>\n      <td>2020</td>\n      <td>3</td>\n      <td>28</td>\n      <td>5</td>\n      <td>23</td>\n      <td>2020-03-28 23:00:00</td>\n    </tr>\n    <tr>\n      <th>2445175</th>\n      <td>2020-03-28 00:00:00</td>\n      <td>0 days 23:00:00.000000000</td>\n      <td>WESM</td>\n      <td>3QPPL_SU1</td>\n      <td>0.0</td>\n      <td>2253.60</td>\n      <td>2020</td>\n      <td>3</td>\n      <td>28</td>\n      <td>5</td>\n      <td>23</td>\n      <td>2020-03-28 23:00:00</td>\n    </tr>\n  </tbody>\n</table>\n<p>2445176 rows × 12 columns</p>\n</div>"
     },
     "metadata": {},
     "execution_count": 3
    }
   ],
   "source": [
    "df"
   ]
  },
  {
   "cell_type": "code",
   "execution_count": 4,
   "metadata": {},
   "outputs": [
    {
     "output_type": "execute_result",
     "data": {
      "text/plain": [
       "Index(['date', 'hour', 'participant', 'resource', 'mw', 'price', 'year',\n",
       "       'month', 'day', 'weekday', 'hour_int', 'date_hour'],\n",
       "      dtype='object')"
      ]
     },
     "metadata": {},
     "execution_count": 4
    }
   ],
   "source": [
    "df.columns"
   ]
  },
  {
   "cell_type": "code",
   "execution_count": 5,
   "metadata": {},
   "outputs": [],
   "source": [
    "df['date'] =  pd.to_datetime(df['date'], format='%Y/%m/%d',infer_datetime_format=True)"
   ]
  },
  {
   "cell_type": "code",
   "execution_count": 6,
   "metadata": {},
   "outputs": [
    {
     "output_type": "execute_result",
     "data": {
      "text/plain": [
       "              date                       hour participant     resource    mw  \\\n",
       "0       2019-01-01  0 days 00:00:00.000000000        WESM  1BALNEO_L01  50.4   \n",
       "1       2019-01-01  0 days 00:00:00.000000000        WESM  1BINGA_T1L1   0.0   \n",
       "2       2019-01-01  0 days 00:00:00.000000000        WESM  1BOTOL_T1L2  13.8   \n",
       "3       2019-01-01  0 days 00:00:00.000000000     WESMTMP  1CBNTU_T1L1  33.3   \n",
       "4       2019-01-01  0 days 00:00:00.000000000        WESM  1CBN_CELCOR  24.3   \n",
       "...            ...                        ...         ...          ...   ...   \n",
       "2445171 2020-03-28  0 days 23:00:00.000000000        WESM  3MAKBA_T3L1   1.0   \n",
       "2445172 2020-03-28  0 days 23:00:00.000000000        WESM  3NAG_CSRC2B   8.0   \n",
       "2445173 2020-03-28  0 days 23:00:00.000000000        WESM  3NAG_CSRCO2  27.5   \n",
       "2445174 2020-03-28  0 days 23:00:00.000000000        WESM    3ORMAT_SS   0.0   \n",
       "2445175 2020-03-28  0 days 23:00:00.000000000        WESM    3QPPL_SU1   0.0   \n",
       "\n",
       "           price  year  month  day  weekday  hour_int            date_hour  \n",
       "0            NaN  2019      1    1        1         0  2019-01-01 00:00:00  \n",
       "1            NaN  2019      1    1        1         0  2019-01-01 00:00:00  \n",
       "2            NaN  2019      1    1        1         0  2019-01-01 00:00:00  \n",
       "3            NaN  2019      1    1        1         0  2019-01-01 00:00:00  \n",
       "4            NaN  2019      1    1        1         0  2019-01-01 00:00:00  \n",
       "...          ...   ...    ...  ...      ...       ...                  ...  \n",
       "2445171  2307.96  2020      3   28        5        23  2020-03-28 23:00:00  \n",
       "2445172  2182.42  2020      3   28        5        23  2020-03-28 23:00:00  \n",
       "2445173  2182.42  2020      3   28        5        23  2020-03-28 23:00:00  \n",
       "2445174  2307.96  2020      3   28        5        23  2020-03-28 23:00:00  \n",
       "2445175  2253.60  2020      3   28        5        23  2020-03-28 23:00:00  \n",
       "\n",
       "[2445176 rows x 12 columns]"
      ],
      "text/html": "<div>\n<style scoped>\n    .dataframe tbody tr th:only-of-type {\n        vertical-align: middle;\n    }\n\n    .dataframe tbody tr th {\n        vertical-align: top;\n    }\n\n    .dataframe thead th {\n        text-align: right;\n    }\n</style>\n<table border=\"1\" class=\"dataframe\">\n  <thead>\n    <tr style=\"text-align: right;\">\n      <th></th>\n      <th>date</th>\n      <th>hour</th>\n      <th>participant</th>\n      <th>resource</th>\n      <th>mw</th>\n      <th>price</th>\n      <th>year</th>\n      <th>month</th>\n      <th>day</th>\n      <th>weekday</th>\n      <th>hour_int</th>\n      <th>date_hour</th>\n    </tr>\n  </thead>\n  <tbody>\n    <tr>\n      <th>0</th>\n      <td>2019-01-01</td>\n      <td>0 days 00:00:00.000000000</td>\n      <td>WESM</td>\n      <td>1BALNEO_L01</td>\n      <td>50.4</td>\n      <td>NaN</td>\n      <td>2019</td>\n      <td>1</td>\n      <td>1</td>\n      <td>1</td>\n      <td>0</td>\n      <td>2019-01-01 00:00:00</td>\n    </tr>\n    <tr>\n      <th>1</th>\n      <td>2019-01-01</td>\n      <td>0 days 00:00:00.000000000</td>\n      <td>WESM</td>\n      <td>1BINGA_T1L1</td>\n      <td>0.0</td>\n      <td>NaN</td>\n      <td>2019</td>\n      <td>1</td>\n      <td>1</td>\n      <td>1</td>\n      <td>0</td>\n      <td>2019-01-01 00:00:00</td>\n    </tr>\n    <tr>\n      <th>2</th>\n      <td>2019-01-01</td>\n      <td>0 days 00:00:00.000000000</td>\n      <td>WESM</td>\n      <td>1BOTOL_T1L2</td>\n      <td>13.8</td>\n      <td>NaN</td>\n      <td>2019</td>\n      <td>1</td>\n      <td>1</td>\n      <td>1</td>\n      <td>0</td>\n      <td>2019-01-01 00:00:00</td>\n    </tr>\n    <tr>\n      <th>3</th>\n      <td>2019-01-01</td>\n      <td>0 days 00:00:00.000000000</td>\n      <td>WESMTMP</td>\n      <td>1CBNTU_T1L1</td>\n      <td>33.3</td>\n      <td>NaN</td>\n      <td>2019</td>\n      <td>1</td>\n      <td>1</td>\n      <td>1</td>\n      <td>0</td>\n      <td>2019-01-01 00:00:00</td>\n    </tr>\n    <tr>\n      <th>4</th>\n      <td>2019-01-01</td>\n      <td>0 days 00:00:00.000000000</td>\n      <td>WESM</td>\n      <td>1CBN_CELCOR</td>\n      <td>24.3</td>\n      <td>NaN</td>\n      <td>2019</td>\n      <td>1</td>\n      <td>1</td>\n      <td>1</td>\n      <td>0</td>\n      <td>2019-01-01 00:00:00</td>\n    </tr>\n    <tr>\n      <th>...</th>\n      <td>...</td>\n      <td>...</td>\n      <td>...</td>\n      <td>...</td>\n      <td>...</td>\n      <td>...</td>\n      <td>...</td>\n      <td>...</td>\n      <td>...</td>\n      <td>...</td>\n      <td>...</td>\n      <td>...</td>\n    </tr>\n    <tr>\n      <th>2445171</th>\n      <td>2020-03-28</td>\n      <td>0 days 23:00:00.000000000</td>\n      <td>WESM</td>\n      <td>3MAKBA_T3L1</td>\n      <td>1.0</td>\n      <td>2307.96</td>\n      <td>2020</td>\n      <td>3</td>\n      <td>28</td>\n      <td>5</td>\n      <td>23</td>\n      <td>2020-03-28 23:00:00</td>\n    </tr>\n    <tr>\n      <th>2445172</th>\n      <td>2020-03-28</td>\n      <td>0 days 23:00:00.000000000</td>\n      <td>WESM</td>\n      <td>3NAG_CSRC2B</td>\n      <td>8.0</td>\n      <td>2182.42</td>\n      <td>2020</td>\n      <td>3</td>\n      <td>28</td>\n      <td>5</td>\n      <td>23</td>\n      <td>2020-03-28 23:00:00</td>\n    </tr>\n    <tr>\n      <th>2445173</th>\n      <td>2020-03-28</td>\n      <td>0 days 23:00:00.000000000</td>\n      <td>WESM</td>\n      <td>3NAG_CSRCO2</td>\n      <td>27.5</td>\n      <td>2182.42</td>\n      <td>2020</td>\n      <td>3</td>\n      <td>28</td>\n      <td>5</td>\n      <td>23</td>\n      <td>2020-03-28 23:00:00</td>\n    </tr>\n    <tr>\n      <th>2445174</th>\n      <td>2020-03-28</td>\n      <td>0 days 23:00:00.000000000</td>\n      <td>WESM</td>\n      <td>3ORMAT_SS</td>\n      <td>0.0</td>\n      <td>2307.96</td>\n      <td>2020</td>\n      <td>3</td>\n      <td>28</td>\n      <td>5</td>\n      <td>23</td>\n      <td>2020-03-28 23:00:00</td>\n    </tr>\n    <tr>\n      <th>2445175</th>\n      <td>2020-03-28</td>\n      <td>0 days 23:00:00.000000000</td>\n      <td>WESM</td>\n      <td>3QPPL_SU1</td>\n      <td>0.0</td>\n      <td>2253.60</td>\n      <td>2020</td>\n      <td>3</td>\n      <td>28</td>\n      <td>5</td>\n      <td>23</td>\n      <td>2020-03-28 23:00:00</td>\n    </tr>\n  </tbody>\n</table>\n<p>2445176 rows × 12 columns</p>\n</div>"
     },
     "metadata": {},
     "execution_count": 6
    }
   ],
   "source": [
    "df"
   ]
  },
  {
   "cell_type": "code",
   "execution_count": 7,
   "metadata": {},
   "outputs": [
    {
     "output_type": "execute_result",
     "data": {
      "text/plain": [
       "date           datetime64[ns]\n",
       "hour                   object\n",
       "participant            object\n",
       "resource               object\n",
       "mw                    float64\n",
       "price                 float64\n",
       "year                    int64\n",
       "month                   int64\n",
       "day                     int64\n",
       "weekday                 int64\n",
       "hour_int                int64\n",
       "date_hour              object\n",
       "dtype: object"
      ]
     },
     "metadata": {},
     "execution_count": 7
    }
   ],
   "source": [
    "df.dtypes"
   ]
  },
  {
   "cell_type": "code",
   "execution_count": 8,
   "metadata": {},
   "outputs": [],
   "source": [
    "df = df.drop(['hour','price','year','month','day','weekday','hour_int','date_hour'], axis=1)"
   ]
  },
  {
   "cell_type": "code",
   "execution_count": 9,
   "metadata": {},
   "outputs": [
    {
     "output_type": "execute_result",
     "data": {
      "text/plain": [
       "              date participant     resource    mw\n",
       "0       2019-01-01        WESM  1BALNEO_L01  50.4\n",
       "1       2019-01-01        WESM  1BINGA_T1L1   0.0\n",
       "2       2019-01-01        WESM  1BOTOL_T1L2  13.8\n",
       "3       2019-01-01     WESMTMP  1CBNTU_T1L1  33.3\n",
       "4       2019-01-01        WESM  1CBN_CELCOR  24.3\n",
       "...            ...         ...          ...   ...\n",
       "2445171 2020-03-28        WESM  3MAKBA_T3L1   1.0\n",
       "2445172 2020-03-28        WESM  3NAG_CSRC2B   8.0\n",
       "2445173 2020-03-28        WESM  3NAG_CSRCO2  27.5\n",
       "2445174 2020-03-28        WESM    3ORMAT_SS   0.0\n",
       "2445175 2020-03-28        WESM    3QPPL_SU1   0.0\n",
       "\n",
       "[2445176 rows x 4 columns]"
      ],
      "text/html": "<div>\n<style scoped>\n    .dataframe tbody tr th:only-of-type {\n        vertical-align: middle;\n    }\n\n    .dataframe tbody tr th {\n        vertical-align: top;\n    }\n\n    .dataframe thead th {\n        text-align: right;\n    }\n</style>\n<table border=\"1\" class=\"dataframe\">\n  <thead>\n    <tr style=\"text-align: right;\">\n      <th></th>\n      <th>date</th>\n      <th>participant</th>\n      <th>resource</th>\n      <th>mw</th>\n    </tr>\n  </thead>\n  <tbody>\n    <tr>\n      <th>0</th>\n      <td>2019-01-01</td>\n      <td>WESM</td>\n      <td>1BALNEO_L01</td>\n      <td>50.4</td>\n    </tr>\n    <tr>\n      <th>1</th>\n      <td>2019-01-01</td>\n      <td>WESM</td>\n      <td>1BINGA_T1L1</td>\n      <td>0.0</td>\n    </tr>\n    <tr>\n      <th>2</th>\n      <td>2019-01-01</td>\n      <td>WESM</td>\n      <td>1BOTOL_T1L2</td>\n      <td>13.8</td>\n    </tr>\n    <tr>\n      <th>3</th>\n      <td>2019-01-01</td>\n      <td>WESMTMP</td>\n      <td>1CBNTU_T1L1</td>\n      <td>33.3</td>\n    </tr>\n    <tr>\n      <th>4</th>\n      <td>2019-01-01</td>\n      <td>WESM</td>\n      <td>1CBN_CELCOR</td>\n      <td>24.3</td>\n    </tr>\n    <tr>\n      <th>...</th>\n      <td>...</td>\n      <td>...</td>\n      <td>...</td>\n      <td>...</td>\n    </tr>\n    <tr>\n      <th>2445171</th>\n      <td>2020-03-28</td>\n      <td>WESM</td>\n      <td>3MAKBA_T3L1</td>\n      <td>1.0</td>\n    </tr>\n    <tr>\n      <th>2445172</th>\n      <td>2020-03-28</td>\n      <td>WESM</td>\n      <td>3NAG_CSRC2B</td>\n      <td>8.0</td>\n    </tr>\n    <tr>\n      <th>2445173</th>\n      <td>2020-03-28</td>\n      <td>WESM</td>\n      <td>3NAG_CSRCO2</td>\n      <td>27.5</td>\n    </tr>\n    <tr>\n      <th>2445174</th>\n      <td>2020-03-28</td>\n      <td>WESM</td>\n      <td>3ORMAT_SS</td>\n      <td>0.0</td>\n    </tr>\n    <tr>\n      <th>2445175</th>\n      <td>2020-03-28</td>\n      <td>WESM</td>\n      <td>3QPPL_SU1</td>\n      <td>0.0</td>\n    </tr>\n  </tbody>\n</table>\n<p>2445176 rows × 4 columns</p>\n</div>"
     },
     "metadata": {},
     "execution_count": 9
    }
   ],
   "source": [
    "df"
   ]
  },
  {
   "cell_type": "code",
   "execution_count": 10,
   "metadata": {},
   "outputs": [],
   "source": [
    "df['totalday'] = df.groupby(['date','resource'])['mw'].transform('sum')"
   ]
  },
  {
   "cell_type": "code",
   "execution_count": 11,
   "metadata": {},
   "outputs": [
    {
     "output_type": "execute_result",
     "data": {
      "text/plain": [
       "              date participant     resource    mw  totalday\n",
       "0       2019-01-01        WESM  1BALNEO_L01  50.4    1089.8\n",
       "1       2019-01-01        WESM  1BINGA_T1L1   0.0       0.0\n",
       "2       2019-01-01        WESM  1BOTOL_T1L2  13.8     295.8\n",
       "3       2019-01-01     WESMTMP  1CBNTU_T1L1  33.3     698.3\n",
       "4       2019-01-01        WESM  1CBN_CELCOR  24.3     587.6\n",
       "...            ...         ...          ...   ...       ...\n",
       "2445171 2020-03-28        WESM  3MAKBA_T3L1   1.0      26.6\n",
       "2445172 2020-03-28        WESM  3NAG_CSRC2B   8.0     194.4\n",
       "2445173 2020-03-28        WESM  3NAG_CSRCO2  27.5     677.3\n",
       "2445174 2020-03-28        WESM    3ORMAT_SS   0.0       0.0\n",
       "2445175 2020-03-28        WESM    3QPPL_SU1   0.0       0.0\n",
       "\n",
       "[2445176 rows x 5 columns]"
      ],
      "text/html": "<div>\n<style scoped>\n    .dataframe tbody tr th:only-of-type {\n        vertical-align: middle;\n    }\n\n    .dataframe tbody tr th {\n        vertical-align: top;\n    }\n\n    .dataframe thead th {\n        text-align: right;\n    }\n</style>\n<table border=\"1\" class=\"dataframe\">\n  <thead>\n    <tr style=\"text-align: right;\">\n      <th></th>\n      <th>date</th>\n      <th>participant</th>\n      <th>resource</th>\n      <th>mw</th>\n      <th>totalday</th>\n    </tr>\n  </thead>\n  <tbody>\n    <tr>\n      <th>0</th>\n      <td>2019-01-01</td>\n      <td>WESM</td>\n      <td>1BALNEO_L01</td>\n      <td>50.4</td>\n      <td>1089.8</td>\n    </tr>\n    <tr>\n      <th>1</th>\n      <td>2019-01-01</td>\n      <td>WESM</td>\n      <td>1BINGA_T1L1</td>\n      <td>0.0</td>\n      <td>0.0</td>\n    </tr>\n    <tr>\n      <th>2</th>\n      <td>2019-01-01</td>\n      <td>WESM</td>\n      <td>1BOTOL_T1L2</td>\n      <td>13.8</td>\n      <td>295.8</td>\n    </tr>\n    <tr>\n      <th>3</th>\n      <td>2019-01-01</td>\n      <td>WESMTMP</td>\n      <td>1CBNTU_T1L1</td>\n      <td>33.3</td>\n      <td>698.3</td>\n    </tr>\n    <tr>\n      <th>4</th>\n      <td>2019-01-01</td>\n      <td>WESM</td>\n      <td>1CBN_CELCOR</td>\n      <td>24.3</td>\n      <td>587.6</td>\n    </tr>\n    <tr>\n      <th>...</th>\n      <td>...</td>\n      <td>...</td>\n      <td>...</td>\n      <td>...</td>\n      <td>...</td>\n    </tr>\n    <tr>\n      <th>2445171</th>\n      <td>2020-03-28</td>\n      <td>WESM</td>\n      <td>3MAKBA_T3L1</td>\n      <td>1.0</td>\n      <td>26.6</td>\n    </tr>\n    <tr>\n      <th>2445172</th>\n      <td>2020-03-28</td>\n      <td>WESM</td>\n      <td>3NAG_CSRC2B</td>\n      <td>8.0</td>\n      <td>194.4</td>\n    </tr>\n    <tr>\n      <th>2445173</th>\n      <td>2020-03-28</td>\n      <td>WESM</td>\n      <td>3NAG_CSRCO2</td>\n      <td>27.5</td>\n      <td>677.3</td>\n    </tr>\n    <tr>\n      <th>2445174</th>\n      <td>2020-03-28</td>\n      <td>WESM</td>\n      <td>3ORMAT_SS</td>\n      <td>0.0</td>\n      <td>0.0</td>\n    </tr>\n    <tr>\n      <th>2445175</th>\n      <td>2020-03-28</td>\n      <td>WESM</td>\n      <td>3QPPL_SU1</td>\n      <td>0.0</td>\n      <td>0.0</td>\n    </tr>\n  </tbody>\n</table>\n<p>2445176 rows × 5 columns</p>\n</div>"
     },
     "metadata": {},
     "execution_count": 11
    }
   ],
   "source": [
    "df"
   ]
  },
  {
   "cell_type": "code",
   "execution_count": 12,
   "metadata": {},
   "outputs": [],
   "source": [
    "df = df.sort_values(by='date')"
   ]
  },
  {
   "cell_type": "code",
   "execution_count": 13,
   "metadata": {},
   "outputs": [
    {
     "output_type": "execute_result",
     "data": {
      "text/plain": [
       "              date participant     resource    mw  totalday\n",
       "0       2019-01-01        WESM  1BALNEO_L01  50.4    1089.8\n",
       "342411  2019-01-01        WESM    1ANGAT_SS   3.7      27.8\n",
       "342412  2019-01-01        WESM  1BNTAY_T1L1  13.9     291.1\n",
       "342413  2019-01-01     WESMTMP  1BNTAY_T1L3   0.0       0.0\n",
       "342414  2019-01-01        WESM  1BYOMB_T1L3  27.5     586.7\n",
       "...            ...         ...          ...   ...       ...\n",
       "1729403 2020-07-15        WESM  1HERMO_T1L2   0.0       0.0\n",
       "1729402 2020-07-15        WESM  1HERMO_T1L1  33.7     852.3\n",
       "1729401 2020-07-15        WESM   1GAMU_T1L2   0.0       8.4\n",
       "1729407 2020-07-15        WESM  1NSNMN_T1L1  20.7     500.8\n",
       "1889897 2020-07-15        WESM  3NAG_CSRCO1  16.5     324.5\n",
       "\n",
       "[2445176 rows x 5 columns]"
      ],
      "text/html": "<div>\n<style scoped>\n    .dataframe tbody tr th:only-of-type {\n        vertical-align: middle;\n    }\n\n    .dataframe tbody tr th {\n        vertical-align: top;\n    }\n\n    .dataframe thead th {\n        text-align: right;\n    }\n</style>\n<table border=\"1\" class=\"dataframe\">\n  <thead>\n    <tr style=\"text-align: right;\">\n      <th></th>\n      <th>date</th>\n      <th>participant</th>\n      <th>resource</th>\n      <th>mw</th>\n      <th>totalday</th>\n    </tr>\n  </thead>\n  <tbody>\n    <tr>\n      <th>0</th>\n      <td>2019-01-01</td>\n      <td>WESM</td>\n      <td>1BALNEO_L01</td>\n      <td>50.4</td>\n      <td>1089.8</td>\n    </tr>\n    <tr>\n      <th>342411</th>\n      <td>2019-01-01</td>\n      <td>WESM</td>\n      <td>1ANGAT_SS</td>\n      <td>3.7</td>\n      <td>27.8</td>\n    </tr>\n    <tr>\n      <th>342412</th>\n      <td>2019-01-01</td>\n      <td>WESM</td>\n      <td>1BNTAY_T1L1</td>\n      <td>13.9</td>\n      <td>291.1</td>\n    </tr>\n    <tr>\n      <th>342413</th>\n      <td>2019-01-01</td>\n      <td>WESMTMP</td>\n      <td>1BNTAY_T1L3</td>\n      <td>0.0</td>\n      <td>0.0</td>\n    </tr>\n    <tr>\n      <th>342414</th>\n      <td>2019-01-01</td>\n      <td>WESM</td>\n      <td>1BYOMB_T1L3</td>\n      <td>27.5</td>\n      <td>586.7</td>\n    </tr>\n    <tr>\n      <th>...</th>\n      <td>...</td>\n      <td>...</td>\n      <td>...</td>\n      <td>...</td>\n      <td>...</td>\n    </tr>\n    <tr>\n      <th>1729403</th>\n      <td>2020-07-15</td>\n      <td>WESM</td>\n      <td>1HERMO_T1L2</td>\n      <td>0.0</td>\n      <td>0.0</td>\n    </tr>\n    <tr>\n      <th>1729402</th>\n      <td>2020-07-15</td>\n      <td>WESM</td>\n      <td>1HERMO_T1L1</td>\n      <td>33.7</td>\n      <td>852.3</td>\n    </tr>\n    <tr>\n      <th>1729401</th>\n      <td>2020-07-15</td>\n      <td>WESM</td>\n      <td>1GAMU_T1L2</td>\n      <td>0.0</td>\n      <td>8.4</td>\n    </tr>\n    <tr>\n      <th>1729407</th>\n      <td>2020-07-15</td>\n      <td>WESM</td>\n      <td>1NSNMN_T1L1</td>\n      <td>20.7</td>\n      <td>500.8</td>\n    </tr>\n    <tr>\n      <th>1889897</th>\n      <td>2020-07-15</td>\n      <td>WESM</td>\n      <td>3NAG_CSRCO1</td>\n      <td>16.5</td>\n      <td>324.5</td>\n    </tr>\n  </tbody>\n</table>\n<p>2445176 rows × 5 columns</p>\n</div>"
     },
     "metadata": {},
     "execution_count": 13
    }
   ],
   "source": [
    "df"
   ]
  },
  {
   "cell_type": "code",
   "execution_count": 14,
   "metadata": {},
   "outputs": [
    {
     "output_type": "execute_result",
     "data": {
      "text/plain": [
       "              date participant     resource    mw  totalday\n",
       "0       2019-01-01        WESM  1BALNEO_L01  50.4    1089.8\n",
       "342473  2019-01-01        WESM  1BALNEO_L01  53.0    1089.8\n",
       "342453  2019-01-01        WESM  1BALNEO_L01  54.8    1089.8\n",
       "342309  2019-01-01        WESM  1BALNEO_L01  48.2    1089.8\n",
       "98754   2019-01-01        WESM  1BALNEO_L01  49.2    1089.8\n",
       "...            ...         ...          ...   ...       ...\n",
       "1665162 2020-07-15        WESM  1BALNEO_L01  20.4     610.8\n",
       "1665198 2020-07-15        WESM  1BALNEO_L01  17.9     610.8\n",
       "1729481 2020-07-15        WESM  1BALNEO_L01  26.6     610.8\n",
       "1729379 2020-07-15        WESM  1BALNEO_L01  25.7     610.8\n",
       "1729397 2020-07-15        WESM  1BALNEO_L01  23.2     610.8\n",
       "\n",
       "[13508 rows x 5 columns]"
      ],
      "text/html": "<div>\n<style scoped>\n    .dataframe tbody tr th:only-of-type {\n        vertical-align: middle;\n    }\n\n    .dataframe tbody tr th {\n        vertical-align: top;\n    }\n\n    .dataframe thead th {\n        text-align: right;\n    }\n</style>\n<table border=\"1\" class=\"dataframe\">\n  <thead>\n    <tr style=\"text-align: right;\">\n      <th></th>\n      <th>date</th>\n      <th>participant</th>\n      <th>resource</th>\n      <th>mw</th>\n      <th>totalday</th>\n    </tr>\n  </thead>\n  <tbody>\n    <tr>\n      <th>0</th>\n      <td>2019-01-01</td>\n      <td>WESM</td>\n      <td>1BALNEO_L01</td>\n      <td>50.4</td>\n      <td>1089.8</td>\n    </tr>\n    <tr>\n      <th>342473</th>\n      <td>2019-01-01</td>\n      <td>WESM</td>\n      <td>1BALNEO_L01</td>\n      <td>53.0</td>\n      <td>1089.8</td>\n    </tr>\n    <tr>\n      <th>342453</th>\n      <td>2019-01-01</td>\n      <td>WESM</td>\n      <td>1BALNEO_L01</td>\n      <td>54.8</td>\n      <td>1089.8</td>\n    </tr>\n    <tr>\n      <th>342309</th>\n      <td>2019-01-01</td>\n      <td>WESM</td>\n      <td>1BALNEO_L01</td>\n      <td>48.2</td>\n      <td>1089.8</td>\n    </tr>\n    <tr>\n      <th>98754</th>\n      <td>2019-01-01</td>\n      <td>WESM</td>\n      <td>1BALNEO_L01</td>\n      <td>49.2</td>\n      <td>1089.8</td>\n    </tr>\n    <tr>\n      <th>...</th>\n      <td>...</td>\n      <td>...</td>\n      <td>...</td>\n      <td>...</td>\n      <td>...</td>\n    </tr>\n    <tr>\n      <th>1665162</th>\n      <td>2020-07-15</td>\n      <td>WESM</td>\n      <td>1BALNEO_L01</td>\n      <td>20.4</td>\n      <td>610.8</td>\n    </tr>\n    <tr>\n      <th>1665198</th>\n      <td>2020-07-15</td>\n      <td>WESM</td>\n      <td>1BALNEO_L01</td>\n      <td>17.9</td>\n      <td>610.8</td>\n    </tr>\n    <tr>\n      <th>1729481</th>\n      <td>2020-07-15</td>\n      <td>WESM</td>\n      <td>1BALNEO_L01</td>\n      <td>26.6</td>\n      <td>610.8</td>\n    </tr>\n    <tr>\n      <th>1729379</th>\n      <td>2020-07-15</td>\n      <td>WESM</td>\n      <td>1BALNEO_L01</td>\n      <td>25.7</td>\n      <td>610.8</td>\n    </tr>\n    <tr>\n      <th>1729397</th>\n      <td>2020-07-15</td>\n      <td>WESM</td>\n      <td>1BALNEO_L01</td>\n      <td>23.2</td>\n      <td>610.8</td>\n    </tr>\n  </tbody>\n</table>\n<p>13508 rows × 5 columns</p>\n</div>"
     },
     "metadata": {},
     "execution_count": 14
    }
   ],
   "source": [
    "#For checking\n",
    "DF_1BALNEO_L01 = df[df['resource'] == '1BALNEO_L01']\n",
    "DF_1BALNEO_L01"
   ]
  },
  {
   "cell_type": "code",
   "execution_count": 15,
   "metadata": {},
   "outputs": [
    {
     "output_type": "execute_result",
     "data": {
      "text/plain": [
       "             date participant     resource    mw  totalday\n",
       "0      2019-01-01        WESM  1BALNEO_L01  50.4    1089.8\n",
       "342473 2019-01-01        WESM  1BALNEO_L01  53.0    1089.8\n",
       "342453 2019-01-01        WESM  1BALNEO_L01  54.8    1089.8\n",
       "342309 2019-01-01        WESM  1BALNEO_L01  48.2    1089.8\n",
       "98754  2019-01-01        WESM  1BALNEO_L01  49.2    1089.8\n",
       "342541 2019-01-01        WESM  1BALNEO_L01  41.5    1089.8\n",
       "147603 2019-01-01        WESM  1BALNEO_L01  37.2    1089.8\n",
       "147629 2019-01-01        WESM  1BALNEO_L01  39.5    1089.8\n",
       "342175 2019-01-01        WESM  1BALNEO_L01  36.1    1089.8\n",
       "342080 2019-01-01        WESM  1BALNEO_L01  45.4    1089.8\n",
       "49587  2019-01-01        WESM  1BALNEO_L01  47.4    1089.8\n",
       "49612  2019-01-01        WESM  1BALNEO_L01  46.1    1089.8\n",
       "49357  2019-01-01        WESM  1BALNEO_L01  43.0    1089.8\n",
       "49402  2019-01-01        WESM  1BALNEO_L01  39.9    1089.8\n",
       "98425  2019-01-01        WESM  1BALNEO_L01  35.8    1089.8\n",
       "244931 2019-01-01        WESM  1BALNEO_L01  45.0    1089.8\n",
       "293587 2019-01-01        WESM  1BALNEO_L01  42.4    1089.8\n",
       "147846 2019-01-01        WESM  1BALNEO_L01  54.7    1089.8\n",
       "147781 2019-01-01        WESM  1BALNEO_L01  44.9    1089.8\n",
       "244545 2019-01-01        WESM  1BALNEO_L01  41.3    1089.8\n",
       "196312 2019-01-01        WESM  1BALNEO_L01  47.2    1089.8\n",
       "196445 2019-01-01        WESM  1BALNEO_L01  53.8    1089.8\n",
       "325    2019-01-01        WESM  1BALNEO_L01  44.7    1089.8\n",
       "27     2019-01-01        WESM  1BALNEO_L01  48.3    1089.8\n",
       "245091 2019-01-02        WESM  1BALNEO_L01  34.4    1206.4"
      ],
      "text/html": "<div>\n<style scoped>\n    .dataframe tbody tr th:only-of-type {\n        vertical-align: middle;\n    }\n\n    .dataframe tbody tr th {\n        vertical-align: top;\n    }\n\n    .dataframe thead th {\n        text-align: right;\n    }\n</style>\n<table border=\"1\" class=\"dataframe\">\n  <thead>\n    <tr style=\"text-align: right;\">\n      <th></th>\n      <th>date</th>\n      <th>participant</th>\n      <th>resource</th>\n      <th>mw</th>\n      <th>totalday</th>\n    </tr>\n  </thead>\n  <tbody>\n    <tr>\n      <th>0</th>\n      <td>2019-01-01</td>\n      <td>WESM</td>\n      <td>1BALNEO_L01</td>\n      <td>50.4</td>\n      <td>1089.8</td>\n    </tr>\n    <tr>\n      <th>342473</th>\n      <td>2019-01-01</td>\n      <td>WESM</td>\n      <td>1BALNEO_L01</td>\n      <td>53.0</td>\n      <td>1089.8</td>\n    </tr>\n    <tr>\n      <th>342453</th>\n      <td>2019-01-01</td>\n      <td>WESM</td>\n      <td>1BALNEO_L01</td>\n      <td>54.8</td>\n      <td>1089.8</td>\n    </tr>\n    <tr>\n      <th>342309</th>\n      <td>2019-01-01</td>\n      <td>WESM</td>\n      <td>1BALNEO_L01</td>\n      <td>48.2</td>\n      <td>1089.8</td>\n    </tr>\n    <tr>\n      <th>98754</th>\n      <td>2019-01-01</td>\n      <td>WESM</td>\n      <td>1BALNEO_L01</td>\n      <td>49.2</td>\n      <td>1089.8</td>\n    </tr>\n    <tr>\n      <th>342541</th>\n      <td>2019-01-01</td>\n      <td>WESM</td>\n      <td>1BALNEO_L01</td>\n      <td>41.5</td>\n      <td>1089.8</td>\n    </tr>\n    <tr>\n      <th>147603</th>\n      <td>2019-01-01</td>\n      <td>WESM</td>\n      <td>1BALNEO_L01</td>\n      <td>37.2</td>\n      <td>1089.8</td>\n    </tr>\n    <tr>\n      <th>147629</th>\n      <td>2019-01-01</td>\n      <td>WESM</td>\n      <td>1BALNEO_L01</td>\n      <td>39.5</td>\n      <td>1089.8</td>\n    </tr>\n    <tr>\n      <th>342175</th>\n      <td>2019-01-01</td>\n      <td>WESM</td>\n      <td>1BALNEO_L01</td>\n      <td>36.1</td>\n      <td>1089.8</td>\n    </tr>\n    <tr>\n      <th>342080</th>\n      <td>2019-01-01</td>\n      <td>WESM</td>\n      <td>1BALNEO_L01</td>\n      <td>45.4</td>\n      <td>1089.8</td>\n    </tr>\n    <tr>\n      <th>49587</th>\n      <td>2019-01-01</td>\n      <td>WESM</td>\n      <td>1BALNEO_L01</td>\n      <td>47.4</td>\n      <td>1089.8</td>\n    </tr>\n    <tr>\n      <th>49612</th>\n      <td>2019-01-01</td>\n      <td>WESM</td>\n      <td>1BALNEO_L01</td>\n      <td>46.1</td>\n      <td>1089.8</td>\n    </tr>\n    <tr>\n      <th>49357</th>\n      <td>2019-01-01</td>\n      <td>WESM</td>\n      <td>1BALNEO_L01</td>\n      <td>43.0</td>\n      <td>1089.8</td>\n    </tr>\n    <tr>\n      <th>49402</th>\n      <td>2019-01-01</td>\n      <td>WESM</td>\n      <td>1BALNEO_L01</td>\n      <td>39.9</td>\n      <td>1089.8</td>\n    </tr>\n    <tr>\n      <th>98425</th>\n      <td>2019-01-01</td>\n      <td>WESM</td>\n      <td>1BALNEO_L01</td>\n      <td>35.8</td>\n      <td>1089.8</td>\n    </tr>\n    <tr>\n      <th>244931</th>\n      <td>2019-01-01</td>\n      <td>WESM</td>\n      <td>1BALNEO_L01</td>\n      <td>45.0</td>\n      <td>1089.8</td>\n    </tr>\n    <tr>\n      <th>293587</th>\n      <td>2019-01-01</td>\n      <td>WESM</td>\n      <td>1BALNEO_L01</td>\n      <td>42.4</td>\n      <td>1089.8</td>\n    </tr>\n    <tr>\n      <th>147846</th>\n      <td>2019-01-01</td>\n      <td>WESM</td>\n      <td>1BALNEO_L01</td>\n      <td>54.7</td>\n      <td>1089.8</td>\n    </tr>\n    <tr>\n      <th>147781</th>\n      <td>2019-01-01</td>\n      <td>WESM</td>\n      <td>1BALNEO_L01</td>\n      <td>44.9</td>\n      <td>1089.8</td>\n    </tr>\n    <tr>\n      <th>244545</th>\n      <td>2019-01-01</td>\n      <td>WESM</td>\n      <td>1BALNEO_L01</td>\n      <td>41.3</td>\n      <td>1089.8</td>\n    </tr>\n    <tr>\n      <th>196312</th>\n      <td>2019-01-01</td>\n      <td>WESM</td>\n      <td>1BALNEO_L01</td>\n      <td>47.2</td>\n      <td>1089.8</td>\n    </tr>\n    <tr>\n      <th>196445</th>\n      <td>2019-01-01</td>\n      <td>WESM</td>\n      <td>1BALNEO_L01</td>\n      <td>53.8</td>\n      <td>1089.8</td>\n    </tr>\n    <tr>\n      <th>325</th>\n      <td>2019-01-01</td>\n      <td>WESM</td>\n      <td>1BALNEO_L01</td>\n      <td>44.7</td>\n      <td>1089.8</td>\n    </tr>\n    <tr>\n      <th>27</th>\n      <td>2019-01-01</td>\n      <td>WESM</td>\n      <td>1BALNEO_L01</td>\n      <td>48.3</td>\n      <td>1089.8</td>\n    </tr>\n    <tr>\n      <th>245091</th>\n      <td>2019-01-02</td>\n      <td>WESM</td>\n      <td>1BALNEO_L01</td>\n      <td>34.4</td>\n      <td>1206.4</td>\n    </tr>\n  </tbody>\n</table>\n</div>"
     },
     "metadata": {},
     "execution_count": 15
    }
   ],
   "source": [
    "#For checking\n",
    "DF_1BALNEO_L01 = df[df['resource'] == '1BALNEO_L01']\n",
    "DF_1BALNEO_L01[0:25]"
   ]
  },
  {
   "cell_type": "code",
   "execution_count": 16,
   "metadata": {},
   "outputs": [],
   "source": [
    "#Fore checking\n",
    "DailyDF_1BALNEO_L01 = DF_1BALNEO_L01.groupby('date')['mw'].agg('sum')"
   ]
  },
  {
   "cell_type": "code",
   "execution_count": 17,
   "metadata": {},
   "outputs": [
    {
     "output_type": "execute_result",
     "data": {
      "text/plain": [
       "date\n",
       "2019-01-01    1089.8\n",
       "2019-01-02    1206.4\n",
       "2019-01-03    1335.7\n",
       "2019-01-04    1348.1\n",
       "2019-01-05    1288.1\n",
       "               ...  \n",
       "2020-07-11     574.0\n",
       "2020-07-12     534.7\n",
       "2020-07-13     554.3\n",
       "2020-07-14     574.1\n",
       "2020-07-15     610.8\n",
       "Name: mw, Length: 562, dtype: float64"
      ]
     },
     "metadata": {},
     "execution_count": 17
    }
   ],
   "source": [
    "#For checking\n",
    "DailyDF_1BALNEO_L01\n",
    "#Sums Matched"
   ]
  },
  {
   "cell_type": "code",
   "execution_count": 18,
   "metadata": {},
   "outputs": [
    {
     "output_type": "execute_result",
     "data": {
      "text/plain": [
       "              date participant     resource    mw  totalday\n",
       "0       2019-01-01        WESM  1BALNEO_L01  50.4    1089.8\n",
       "342411  2019-01-01        WESM    1ANGAT_SS   3.7      27.8\n",
       "342412  2019-01-01        WESM  1BNTAY_T1L1  13.9     291.1\n",
       "342413  2019-01-01     WESMTMP  1BNTAY_T1L3   0.0       0.0\n",
       "342414  2019-01-01        WESM  1BYOMB_T1L3  27.5     586.7\n",
       "...            ...         ...          ...   ...       ...\n",
       "1729403 2020-07-15        WESM  1HERMO_T1L2   0.0       0.0\n",
       "1729402 2020-07-15        WESM  1HERMO_T1L1  33.7     852.3\n",
       "1729401 2020-07-15        WESM   1GAMU_T1L2   0.0       8.4\n",
       "1729407 2020-07-15        WESM  1NSNMN_T1L1  20.7     500.8\n",
       "1889897 2020-07-15        WESM  3NAG_CSRCO1  16.5     324.5\n",
       "\n",
       "[2445176 rows x 5 columns]"
      ],
      "text/html": "<div>\n<style scoped>\n    .dataframe tbody tr th:only-of-type {\n        vertical-align: middle;\n    }\n\n    .dataframe tbody tr th {\n        vertical-align: top;\n    }\n\n    .dataframe thead th {\n        text-align: right;\n    }\n</style>\n<table border=\"1\" class=\"dataframe\">\n  <thead>\n    <tr style=\"text-align: right;\">\n      <th></th>\n      <th>date</th>\n      <th>participant</th>\n      <th>resource</th>\n      <th>mw</th>\n      <th>totalday</th>\n    </tr>\n  </thead>\n  <tbody>\n    <tr>\n      <th>0</th>\n      <td>2019-01-01</td>\n      <td>WESM</td>\n      <td>1BALNEO_L01</td>\n      <td>50.4</td>\n      <td>1089.8</td>\n    </tr>\n    <tr>\n      <th>342411</th>\n      <td>2019-01-01</td>\n      <td>WESM</td>\n      <td>1ANGAT_SS</td>\n      <td>3.7</td>\n      <td>27.8</td>\n    </tr>\n    <tr>\n      <th>342412</th>\n      <td>2019-01-01</td>\n      <td>WESM</td>\n      <td>1BNTAY_T1L1</td>\n      <td>13.9</td>\n      <td>291.1</td>\n    </tr>\n    <tr>\n      <th>342413</th>\n      <td>2019-01-01</td>\n      <td>WESMTMP</td>\n      <td>1BNTAY_T1L3</td>\n      <td>0.0</td>\n      <td>0.0</td>\n    </tr>\n    <tr>\n      <th>342414</th>\n      <td>2019-01-01</td>\n      <td>WESM</td>\n      <td>1BYOMB_T1L3</td>\n      <td>27.5</td>\n      <td>586.7</td>\n    </tr>\n    <tr>\n      <th>...</th>\n      <td>...</td>\n      <td>...</td>\n      <td>...</td>\n      <td>...</td>\n      <td>...</td>\n    </tr>\n    <tr>\n      <th>1729403</th>\n      <td>2020-07-15</td>\n      <td>WESM</td>\n      <td>1HERMO_T1L2</td>\n      <td>0.0</td>\n      <td>0.0</td>\n    </tr>\n    <tr>\n      <th>1729402</th>\n      <td>2020-07-15</td>\n      <td>WESM</td>\n      <td>1HERMO_T1L1</td>\n      <td>33.7</td>\n      <td>852.3</td>\n    </tr>\n    <tr>\n      <th>1729401</th>\n      <td>2020-07-15</td>\n      <td>WESM</td>\n      <td>1GAMU_T1L2</td>\n      <td>0.0</td>\n      <td>8.4</td>\n    </tr>\n    <tr>\n      <th>1729407</th>\n      <td>2020-07-15</td>\n      <td>WESM</td>\n      <td>1NSNMN_T1L1</td>\n      <td>20.7</td>\n      <td>500.8</td>\n    </tr>\n    <tr>\n      <th>1889897</th>\n      <td>2020-07-15</td>\n      <td>WESM</td>\n      <td>3NAG_CSRCO1</td>\n      <td>16.5</td>\n      <td>324.5</td>\n    </tr>\n  </tbody>\n</table>\n<p>2445176 rows × 5 columns</p>\n</div>"
     },
     "metadata": {},
     "execution_count": 18
    }
   ],
   "source": [
    "df"
   ]
  },
  {
   "cell_type": "code",
   "execution_count": 19,
   "metadata": {},
   "outputs": [
    {
     "output_type": "execute_result",
     "data": {
      "text/plain": [
       "              date participant     resource  totalday\n",
       "0       2019-01-01        WESM  1BALNEO_L01    1089.8\n",
       "342411  2019-01-01        WESM    1ANGAT_SS      27.8\n",
       "342412  2019-01-01        WESM  1BNTAY_T1L1     291.1\n",
       "342413  2019-01-01     WESMTMP  1BNTAY_T1L3       0.0\n",
       "342414  2019-01-01        WESM  1BYOMB_T1L3     586.7\n",
       "...            ...         ...          ...       ...\n",
       "1729403 2020-07-15        WESM  1HERMO_T1L2       0.0\n",
       "1729402 2020-07-15        WESM  1HERMO_T1L1     852.3\n",
       "1729401 2020-07-15        WESM   1GAMU_T1L2       8.4\n",
       "1729407 2020-07-15        WESM  1NSNMN_T1L1     500.8\n",
       "1889897 2020-07-15        WESM  3NAG_CSRCO1     324.5\n",
       "\n",
       "[2445176 rows x 4 columns]"
      ],
      "text/html": "<div>\n<style scoped>\n    .dataframe tbody tr th:only-of-type {\n        vertical-align: middle;\n    }\n\n    .dataframe tbody tr th {\n        vertical-align: top;\n    }\n\n    .dataframe thead th {\n        text-align: right;\n    }\n</style>\n<table border=\"1\" class=\"dataframe\">\n  <thead>\n    <tr style=\"text-align: right;\">\n      <th></th>\n      <th>date</th>\n      <th>participant</th>\n      <th>resource</th>\n      <th>totalday</th>\n    </tr>\n  </thead>\n  <tbody>\n    <tr>\n      <th>0</th>\n      <td>2019-01-01</td>\n      <td>WESM</td>\n      <td>1BALNEO_L01</td>\n      <td>1089.8</td>\n    </tr>\n    <tr>\n      <th>342411</th>\n      <td>2019-01-01</td>\n      <td>WESM</td>\n      <td>1ANGAT_SS</td>\n      <td>27.8</td>\n    </tr>\n    <tr>\n      <th>342412</th>\n      <td>2019-01-01</td>\n      <td>WESM</td>\n      <td>1BNTAY_T1L1</td>\n      <td>291.1</td>\n    </tr>\n    <tr>\n      <th>342413</th>\n      <td>2019-01-01</td>\n      <td>WESMTMP</td>\n      <td>1BNTAY_T1L3</td>\n      <td>0.0</td>\n    </tr>\n    <tr>\n      <th>342414</th>\n      <td>2019-01-01</td>\n      <td>WESM</td>\n      <td>1BYOMB_T1L3</td>\n      <td>586.7</td>\n    </tr>\n    <tr>\n      <th>...</th>\n      <td>...</td>\n      <td>...</td>\n      <td>...</td>\n      <td>...</td>\n    </tr>\n    <tr>\n      <th>1729403</th>\n      <td>2020-07-15</td>\n      <td>WESM</td>\n      <td>1HERMO_T1L2</td>\n      <td>0.0</td>\n    </tr>\n    <tr>\n      <th>1729402</th>\n      <td>2020-07-15</td>\n      <td>WESM</td>\n      <td>1HERMO_T1L1</td>\n      <td>852.3</td>\n    </tr>\n    <tr>\n      <th>1729401</th>\n      <td>2020-07-15</td>\n      <td>WESM</td>\n      <td>1GAMU_T1L2</td>\n      <td>8.4</td>\n    </tr>\n    <tr>\n      <th>1729407</th>\n      <td>2020-07-15</td>\n      <td>WESM</td>\n      <td>1NSNMN_T1L1</td>\n      <td>500.8</td>\n    </tr>\n    <tr>\n      <th>1889897</th>\n      <td>2020-07-15</td>\n      <td>WESM</td>\n      <td>3NAG_CSRCO1</td>\n      <td>324.5</td>\n    </tr>\n  </tbody>\n</table>\n<p>2445176 rows × 4 columns</p>\n</div>"
     },
     "metadata": {},
     "execution_count": 19
    }
   ],
   "source": [
    "df = df.drop(['mw'], axis=1)\n",
    "df"
   ]
  },
  {
   "cell_type": "code",
   "execution_count": 20,
   "metadata": {},
   "outputs": [],
   "source": [
    "df = df.rename(columns={'totalday':'total mw'})"
   ]
  },
  {
   "cell_type": "code",
   "execution_count": 21,
   "metadata": {},
   "outputs": [
    {
     "output_type": "execute_result",
     "data": {
      "text/plain": [
       "              date participant     resource  total mw\n",
       "0       2019-01-01        WESM  1BALNEO_L01    1089.8\n",
       "342411  2019-01-01        WESM    1ANGAT_SS      27.8\n",
       "342412  2019-01-01        WESM  1BNTAY_T1L1     291.1\n",
       "342413  2019-01-01     WESMTMP  1BNTAY_T1L3       0.0\n",
       "342414  2019-01-01        WESM  1BYOMB_T1L3     586.7\n",
       "...            ...         ...          ...       ...\n",
       "1729403 2020-07-15        WESM  1HERMO_T1L2       0.0\n",
       "1729402 2020-07-15        WESM  1HERMO_T1L1     852.3\n",
       "1729401 2020-07-15        WESM   1GAMU_T1L2       8.4\n",
       "1729407 2020-07-15        WESM  1NSNMN_T1L1     500.8\n",
       "1889897 2020-07-15        WESM  3NAG_CSRCO1     324.5\n",
       "\n",
       "[2445176 rows x 4 columns]"
      ],
      "text/html": "<div>\n<style scoped>\n    .dataframe tbody tr th:only-of-type {\n        vertical-align: middle;\n    }\n\n    .dataframe tbody tr th {\n        vertical-align: top;\n    }\n\n    .dataframe thead th {\n        text-align: right;\n    }\n</style>\n<table border=\"1\" class=\"dataframe\">\n  <thead>\n    <tr style=\"text-align: right;\">\n      <th></th>\n      <th>date</th>\n      <th>participant</th>\n      <th>resource</th>\n      <th>total mw</th>\n    </tr>\n  </thead>\n  <tbody>\n    <tr>\n      <th>0</th>\n      <td>2019-01-01</td>\n      <td>WESM</td>\n      <td>1BALNEO_L01</td>\n      <td>1089.8</td>\n    </tr>\n    <tr>\n      <th>342411</th>\n      <td>2019-01-01</td>\n      <td>WESM</td>\n      <td>1ANGAT_SS</td>\n      <td>27.8</td>\n    </tr>\n    <tr>\n      <th>342412</th>\n      <td>2019-01-01</td>\n      <td>WESM</td>\n      <td>1BNTAY_T1L1</td>\n      <td>291.1</td>\n    </tr>\n    <tr>\n      <th>342413</th>\n      <td>2019-01-01</td>\n      <td>WESMTMP</td>\n      <td>1BNTAY_T1L3</td>\n      <td>0.0</td>\n    </tr>\n    <tr>\n      <th>342414</th>\n      <td>2019-01-01</td>\n      <td>WESM</td>\n      <td>1BYOMB_T1L3</td>\n      <td>586.7</td>\n    </tr>\n    <tr>\n      <th>...</th>\n      <td>...</td>\n      <td>...</td>\n      <td>...</td>\n      <td>...</td>\n    </tr>\n    <tr>\n      <th>1729403</th>\n      <td>2020-07-15</td>\n      <td>WESM</td>\n      <td>1HERMO_T1L2</td>\n      <td>0.0</td>\n    </tr>\n    <tr>\n      <th>1729402</th>\n      <td>2020-07-15</td>\n      <td>WESM</td>\n      <td>1HERMO_T1L1</td>\n      <td>852.3</td>\n    </tr>\n    <tr>\n      <th>1729401</th>\n      <td>2020-07-15</td>\n      <td>WESM</td>\n      <td>1GAMU_T1L2</td>\n      <td>8.4</td>\n    </tr>\n    <tr>\n      <th>1729407</th>\n      <td>2020-07-15</td>\n      <td>WESM</td>\n      <td>1NSNMN_T1L1</td>\n      <td>500.8</td>\n    </tr>\n    <tr>\n      <th>1889897</th>\n      <td>2020-07-15</td>\n      <td>WESM</td>\n      <td>3NAG_CSRCO1</td>\n      <td>324.5</td>\n    </tr>\n  </tbody>\n</table>\n<p>2445176 rows × 4 columns</p>\n</div>"
     },
     "metadata": {},
     "execution_count": 21
    }
   ],
   "source": [
    "df"
   ]
  },
  {
   "cell_type": "code",
   "execution_count": 22,
   "metadata": {},
   "outputs": [
    {
     "output_type": "execute_result",
     "data": {
      "text/plain": [
       "date           datetime64[ns]\n",
       "participant            object\n",
       "resource               object\n",
       "total mw              float64\n",
       "dtype: object"
      ]
     },
     "metadata": {},
     "execution_count": 22
    }
   ],
   "source": [
    "df.dtypes"
   ]
  },
  {
   "cell_type": "code",
   "execution_count": 23,
   "metadata": {},
   "outputs": [],
   "source": [
    "df = df.sort_values(by='date')"
   ]
  },
  {
   "cell_type": "code",
   "execution_count": 24,
   "metadata": {},
   "outputs": [
    {
     "output_type": "execute_result",
     "data": {
      "text/plain": [
       "              date participant     resource  total mw\n",
       "0       2019-01-01        WESM  1BALNEO_L01    1089.8\n",
       "196100  2019-01-01        WESM   1SUAL_T3L1     109.5\n",
       "196099  2019-01-01        WESM  1SNEST_T3L2     139.2\n",
       "196098  2019-01-01        WESM  1SNEST_T3L1     275.5\n",
       "196097  2019-01-01        WESM  1MSNLO_BATC       0.0\n",
       "...            ...         ...          ...       ...\n",
       "1639740 2020-07-15        WESM  3BATAN_T1L2     274.7\n",
       "1639741 2020-07-15     MERALCO  3BINAN_T1L1   11893.1\n",
       "1639742 2020-07-15       ALECO   3DAR_ALECO     931.1\n",
       "1639736 2020-07-15     WESMTMP  1MEX_PELCO1     726.4\n",
       "1889897 2020-07-15        WESM  3NAG_CSRCO1     324.5\n",
       "\n",
       "[2445176 rows x 4 columns]"
      ],
      "text/html": "<div>\n<style scoped>\n    .dataframe tbody tr th:only-of-type {\n        vertical-align: middle;\n    }\n\n    .dataframe tbody tr th {\n        vertical-align: top;\n    }\n\n    .dataframe thead th {\n        text-align: right;\n    }\n</style>\n<table border=\"1\" class=\"dataframe\">\n  <thead>\n    <tr style=\"text-align: right;\">\n      <th></th>\n      <th>date</th>\n      <th>participant</th>\n      <th>resource</th>\n      <th>total mw</th>\n    </tr>\n  </thead>\n  <tbody>\n    <tr>\n      <th>0</th>\n      <td>2019-01-01</td>\n      <td>WESM</td>\n      <td>1BALNEO_L01</td>\n      <td>1089.8</td>\n    </tr>\n    <tr>\n      <th>196100</th>\n      <td>2019-01-01</td>\n      <td>WESM</td>\n      <td>1SUAL_T3L1</td>\n      <td>109.5</td>\n    </tr>\n    <tr>\n      <th>196099</th>\n      <td>2019-01-01</td>\n      <td>WESM</td>\n      <td>1SNEST_T3L2</td>\n      <td>139.2</td>\n    </tr>\n    <tr>\n      <th>196098</th>\n      <td>2019-01-01</td>\n      <td>WESM</td>\n      <td>1SNEST_T3L1</td>\n      <td>275.5</td>\n    </tr>\n    <tr>\n      <th>196097</th>\n      <td>2019-01-01</td>\n      <td>WESM</td>\n      <td>1MSNLO_BATC</td>\n      <td>0.0</td>\n    </tr>\n    <tr>\n      <th>...</th>\n      <td>...</td>\n      <td>...</td>\n      <td>...</td>\n      <td>...</td>\n    </tr>\n    <tr>\n      <th>1639740</th>\n      <td>2020-07-15</td>\n      <td>WESM</td>\n      <td>3BATAN_T1L2</td>\n      <td>274.7</td>\n    </tr>\n    <tr>\n      <th>1639741</th>\n      <td>2020-07-15</td>\n      <td>MERALCO</td>\n      <td>3BINAN_T1L1</td>\n      <td>11893.1</td>\n    </tr>\n    <tr>\n      <th>1639742</th>\n      <td>2020-07-15</td>\n      <td>ALECO</td>\n      <td>3DAR_ALECO</td>\n      <td>931.1</td>\n    </tr>\n    <tr>\n      <th>1639736</th>\n      <td>2020-07-15</td>\n      <td>WESMTMP</td>\n      <td>1MEX_PELCO1</td>\n      <td>726.4</td>\n    </tr>\n    <tr>\n      <th>1889897</th>\n      <td>2020-07-15</td>\n      <td>WESM</td>\n      <td>3NAG_CSRCO1</td>\n      <td>324.5</td>\n    </tr>\n  </tbody>\n</table>\n<p>2445176 rows × 4 columns</p>\n</div>"
     },
     "metadata": {},
     "execution_count": 24
    }
   ],
   "source": [
    "df"
   ]
  },
  {
   "cell_type": "code",
   "execution_count": 25,
   "metadata": {},
   "outputs": [],
   "source": [
    "df = df.drop_duplicates()"
   ]
  },
  {
   "cell_type": "code",
   "execution_count": 26,
   "metadata": {},
   "outputs": [
    {
     "output_type": "execute_result",
     "data": {
      "text/plain": [
       "              date participant     resource  total mw\n",
       "147902  2019-01-01        WESM  3MAKBA_T3L1      21.9\n",
       "994     2019-01-02        WESM  3MAKBA_T3L1      24.8\n",
       "343172  2019-01-03        WESM  3MAKBA_T3L1      52.7\n",
       "246043  2019-01-04        WESM  3MAKBA_T3L1      51.5\n",
       "52048   2019-01-05        WESM  3MAKBA_T3L1      26.3\n",
       "...            ...         ...          ...       ...\n",
       "1682122 2020-07-11        WESM  3MAKBA_T3L1      23.1\n",
       "1816824 2020-07-12        WESM  3MAKBA_T3L1      24.0\n",
       "1873214 2020-07-13        WESM  3MAKBA_T3L1      36.5\n",
       "1704118 2020-07-14        WESM  3MAKBA_T3L1      48.5\n",
       "1695820 2020-07-15        WESM  3MAKBA_T3L1      50.3\n",
       "\n",
       "[562 rows x 4 columns]"
      ],
      "text/html": "<div>\n<style scoped>\n    .dataframe tbody tr th:only-of-type {\n        vertical-align: middle;\n    }\n\n    .dataframe tbody tr th {\n        vertical-align: top;\n    }\n\n    .dataframe thead th {\n        text-align: right;\n    }\n</style>\n<table border=\"1\" class=\"dataframe\">\n  <thead>\n    <tr style=\"text-align: right;\">\n      <th></th>\n      <th>date</th>\n      <th>participant</th>\n      <th>resource</th>\n      <th>total mw</th>\n    </tr>\n  </thead>\n  <tbody>\n    <tr>\n      <th>147902</th>\n      <td>2019-01-01</td>\n      <td>WESM</td>\n      <td>3MAKBA_T3L1</td>\n      <td>21.9</td>\n    </tr>\n    <tr>\n      <th>994</th>\n      <td>2019-01-02</td>\n      <td>WESM</td>\n      <td>3MAKBA_T3L1</td>\n      <td>24.8</td>\n    </tr>\n    <tr>\n      <th>343172</th>\n      <td>2019-01-03</td>\n      <td>WESM</td>\n      <td>3MAKBA_T3L1</td>\n      <td>52.7</td>\n    </tr>\n    <tr>\n      <th>246043</th>\n      <td>2019-01-04</td>\n      <td>WESM</td>\n      <td>3MAKBA_T3L1</td>\n      <td>51.5</td>\n    </tr>\n    <tr>\n      <th>52048</th>\n      <td>2019-01-05</td>\n      <td>WESM</td>\n      <td>3MAKBA_T3L1</td>\n      <td>26.3</td>\n    </tr>\n    <tr>\n      <th>...</th>\n      <td>...</td>\n      <td>...</td>\n      <td>...</td>\n      <td>...</td>\n    </tr>\n    <tr>\n      <th>1682122</th>\n      <td>2020-07-11</td>\n      <td>WESM</td>\n      <td>3MAKBA_T3L1</td>\n      <td>23.1</td>\n    </tr>\n    <tr>\n      <th>1816824</th>\n      <td>2020-07-12</td>\n      <td>WESM</td>\n      <td>3MAKBA_T3L1</td>\n      <td>24.0</td>\n    </tr>\n    <tr>\n      <th>1873214</th>\n      <td>2020-07-13</td>\n      <td>WESM</td>\n      <td>3MAKBA_T3L1</td>\n      <td>36.5</td>\n    </tr>\n    <tr>\n      <th>1704118</th>\n      <td>2020-07-14</td>\n      <td>WESM</td>\n      <td>3MAKBA_T3L1</td>\n      <td>48.5</td>\n    </tr>\n    <tr>\n      <th>1695820</th>\n      <td>2020-07-15</td>\n      <td>WESM</td>\n      <td>3MAKBA_T3L1</td>\n      <td>50.3</td>\n    </tr>\n  </tbody>\n</table>\n<p>562 rows × 4 columns</p>\n</div>"
     },
     "metadata": {},
     "execution_count": 26
    }
   ],
   "source": [
    "df[df['resource'] == '3MAKBA_T3L1']"
   ]
  },
  {
   "cell_type": "code",
   "execution_count": 27,
   "metadata": {},
   "outputs": [],
   "source": [
    "Daily_DF = df.copy()"
   ]
  },
  {
   "cell_type": "code",
   "execution_count": 28,
   "metadata": {},
   "outputs": [
    {
     "output_type": "execute_result",
     "data": {
      "text/plain": [
       "              date participant     resource  total mw\n",
       "0       2019-01-01        WESM  1BALNEO_L01    1089.8\n",
       "196100  2019-01-01        WESM   1SUAL_T3L1     109.5\n",
       "196099  2019-01-01        WESM  1SNEST_T3L2     139.2\n",
       "196098  2019-01-01        WESM  1SNEST_T3L1     275.5\n",
       "196097  2019-01-01        WESM  1MSNLO_BATC       0.0\n",
       "...            ...         ...          ...       ...\n",
       "1889990 2020-07-15        WESM  1MRVEL_T1L1       0.0\n",
       "1889891 2020-07-15        WESM  3BAT_BTLEC2     763.7\n",
       "1889872 2020-07-15        WESM   3CALIRY_SS       0.0\n",
       "1889814 2020-07-15        WESM   1SUAL_T3L1     108.4\n",
       "1889704 2020-07-15        WESM  3NAG_CSRCO1     324.5\n",
       "\n",
       "[102218 rows x 4 columns]"
      ],
      "text/html": "<div>\n<style scoped>\n    .dataframe tbody tr th:only-of-type {\n        vertical-align: middle;\n    }\n\n    .dataframe tbody tr th {\n        vertical-align: top;\n    }\n\n    .dataframe thead th {\n        text-align: right;\n    }\n</style>\n<table border=\"1\" class=\"dataframe\">\n  <thead>\n    <tr style=\"text-align: right;\">\n      <th></th>\n      <th>date</th>\n      <th>participant</th>\n      <th>resource</th>\n      <th>total mw</th>\n    </tr>\n  </thead>\n  <tbody>\n    <tr>\n      <th>0</th>\n      <td>2019-01-01</td>\n      <td>WESM</td>\n      <td>1BALNEO_L01</td>\n      <td>1089.8</td>\n    </tr>\n    <tr>\n      <th>196100</th>\n      <td>2019-01-01</td>\n      <td>WESM</td>\n      <td>1SUAL_T3L1</td>\n      <td>109.5</td>\n    </tr>\n    <tr>\n      <th>196099</th>\n      <td>2019-01-01</td>\n      <td>WESM</td>\n      <td>1SNEST_T3L2</td>\n      <td>139.2</td>\n    </tr>\n    <tr>\n      <th>196098</th>\n      <td>2019-01-01</td>\n      <td>WESM</td>\n      <td>1SNEST_T3L1</td>\n      <td>275.5</td>\n    </tr>\n    <tr>\n      <th>196097</th>\n      <td>2019-01-01</td>\n      <td>WESM</td>\n      <td>1MSNLO_BATC</td>\n      <td>0.0</td>\n    </tr>\n    <tr>\n      <th>...</th>\n      <td>...</td>\n      <td>...</td>\n      <td>...</td>\n      <td>...</td>\n    </tr>\n    <tr>\n      <th>1889990</th>\n      <td>2020-07-15</td>\n      <td>WESM</td>\n      <td>1MRVEL_T1L1</td>\n      <td>0.0</td>\n    </tr>\n    <tr>\n      <th>1889891</th>\n      <td>2020-07-15</td>\n      <td>WESM</td>\n      <td>3BAT_BTLEC2</td>\n      <td>763.7</td>\n    </tr>\n    <tr>\n      <th>1889872</th>\n      <td>2020-07-15</td>\n      <td>WESM</td>\n      <td>3CALIRY_SS</td>\n      <td>0.0</td>\n    </tr>\n    <tr>\n      <th>1889814</th>\n      <td>2020-07-15</td>\n      <td>WESM</td>\n      <td>1SUAL_T3L1</td>\n      <td>108.4</td>\n    </tr>\n    <tr>\n      <th>1889704</th>\n      <td>2020-07-15</td>\n      <td>WESM</td>\n      <td>3NAG_CSRCO1</td>\n      <td>324.5</td>\n    </tr>\n  </tbody>\n</table>\n<p>102218 rows × 4 columns</p>\n</div>"
     },
     "metadata": {},
     "execution_count": 28
    }
   ],
   "source": [
    "Daily_DF"
   ]
  },
  {
   "cell_type": "code",
   "execution_count": 29,
   "metadata": {},
   "outputs": [],
   "source": [
    "cluster_df = pd.read_csv('D:\\Capstone\\df_clustered.csv')"
   ]
  },
  {
   "cell_type": "code",
   "execution_count": 30,
   "metadata": {},
   "outputs": [
    {
     "output_type": "execute_result",
     "data": {
      "text/plain": [
       "     cluster      reso_id         0         1         2         3         4  \\\n",
       "0          0     1AEC_L01  0.322785  0.202532  0.101266  0.034810  0.000000   \n",
       "1          0  1BAUAN_T2L1  0.200000  0.150000  0.100000  0.050000  0.150000   \n",
       "2          0  1BAUAN_T2L2  0.244681  0.170213  0.074468  0.026596  0.042553   \n",
       "3          0  1BCNOT_T1L2  0.438596  0.350877  0.271930  0.210526  0.228070   \n",
       "4          0  1BNTAY_T1L2  0.270270  0.189189  0.108108  0.027027  0.054054   \n",
       "..       ...          ...       ...       ...       ...       ...       ...   \n",
       "148        5     1MEX_SKK  0.926108  0.949097  0.903120  0.901478  0.866995   \n",
       "149        5  1NSNMN_T1L1  0.782609  0.782609  0.782609  0.913043  0.869565   \n",
       "150        5  1SNJOS_T1L1  0.538462  0.769231  0.730769  0.846154  1.000000   \n",
       "151        5  1SNJOS_T1L3  0.710526  0.763158  0.868421  0.907895  1.000000   \n",
       "152        5    3BAT_T2L1  0.883721  0.883721  0.906977  0.813953  0.837209   \n",
       "\n",
       "            5         6         7  ...        14        15        16  \\\n",
       "0    0.018987  0.000000  0.164557  ...  0.949367  0.981013  0.873418   \n",
       "1    0.200000  0.000000  0.100000  ...  0.500000  0.450000  0.350000   \n",
       "2    0.085106  0.000000  0.202128  ...  0.797872  0.723404  0.563830   \n",
       "3    0.192982  0.000000  0.052632  ...  0.473684  0.385965  0.280702   \n",
       "4    0.108108  0.000000  0.108108  ...  0.567568  0.459459  0.378378   \n",
       "..        ...       ...       ...  ...       ...       ...       ...   \n",
       "148  0.880131  0.801314  0.866995  ...  0.016420  0.492611  0.541872   \n",
       "149  1.000000  0.739130  0.608696  ...  0.652174  0.521739  0.782609   \n",
       "150  0.769231  0.923077  0.769231  ...  0.461538  0.461538  0.000000   \n",
       "151  0.921053  0.842105  0.697368  ...  0.065789  0.026316  0.315789   \n",
       "152  0.744186  0.744186  0.744186  ...  0.093023  0.046512  0.186047   \n",
       "\n",
       "           17        18        19        20        21        22        23  \n",
       "0    0.905063  1.000000  0.962025  0.911392  0.791139  0.664557  0.487342  \n",
       "1    0.550000  0.950000  1.000000  0.900000  0.700000  0.450000  0.300000  \n",
       "2    0.627660  0.946809  1.000000  0.914894  0.723404  0.505319  0.351064  \n",
       "3    0.491228  0.912281  1.000000  0.947368  0.771930  0.684211  0.543860  \n",
       "4    0.486486  0.864865  1.000000  0.972973  0.756757  0.567568  0.405405  \n",
       "..        ...       ...       ...       ...       ...       ...       ...  \n",
       "148  0.558292  0.650246  0.840722  0.932677  0.853859  1.000000  0.899836  \n",
       "149  0.608696  0.739130  0.826087  0.913043  0.869565  0.913043  0.565217  \n",
       "150  0.461538  0.384615  0.692308  0.846154  0.769231  0.769231  0.538462  \n",
       "151  0.289474  0.157895  0.250000  0.355263  0.473684  0.611842  0.710526  \n",
       "152  0.372093  0.279070  0.511628  0.744186  0.930233  1.000000  0.930233  \n",
       "\n",
       "[153 rows x 26 columns]"
      ],
      "text/html": "<div>\n<style scoped>\n    .dataframe tbody tr th:only-of-type {\n        vertical-align: middle;\n    }\n\n    .dataframe tbody tr th {\n        vertical-align: top;\n    }\n\n    .dataframe thead th {\n        text-align: right;\n    }\n</style>\n<table border=\"1\" class=\"dataframe\">\n  <thead>\n    <tr style=\"text-align: right;\">\n      <th></th>\n      <th>cluster</th>\n      <th>reso_id</th>\n      <th>0</th>\n      <th>1</th>\n      <th>2</th>\n      <th>3</th>\n      <th>4</th>\n      <th>5</th>\n      <th>6</th>\n      <th>7</th>\n      <th>...</th>\n      <th>14</th>\n      <th>15</th>\n      <th>16</th>\n      <th>17</th>\n      <th>18</th>\n      <th>19</th>\n      <th>20</th>\n      <th>21</th>\n      <th>22</th>\n      <th>23</th>\n    </tr>\n  </thead>\n  <tbody>\n    <tr>\n      <th>0</th>\n      <td>0</td>\n      <td>1AEC_L01</td>\n      <td>0.322785</td>\n      <td>0.202532</td>\n      <td>0.101266</td>\n      <td>0.034810</td>\n      <td>0.000000</td>\n      <td>0.018987</td>\n      <td>0.000000</td>\n      <td>0.164557</td>\n      <td>...</td>\n      <td>0.949367</td>\n      <td>0.981013</td>\n      <td>0.873418</td>\n      <td>0.905063</td>\n      <td>1.000000</td>\n      <td>0.962025</td>\n      <td>0.911392</td>\n      <td>0.791139</td>\n      <td>0.664557</td>\n      <td>0.487342</td>\n    </tr>\n    <tr>\n      <th>1</th>\n      <td>0</td>\n      <td>1BAUAN_T2L1</td>\n      <td>0.200000</td>\n      <td>0.150000</td>\n      <td>0.100000</td>\n      <td>0.050000</td>\n      <td>0.150000</td>\n      <td>0.200000</td>\n      <td>0.000000</td>\n      <td>0.100000</td>\n      <td>...</td>\n      <td>0.500000</td>\n      <td>0.450000</td>\n      <td>0.350000</td>\n      <td>0.550000</td>\n      <td>0.950000</td>\n      <td>1.000000</td>\n      <td>0.900000</td>\n      <td>0.700000</td>\n      <td>0.450000</td>\n      <td>0.300000</td>\n    </tr>\n    <tr>\n      <th>2</th>\n      <td>0</td>\n      <td>1BAUAN_T2L2</td>\n      <td>0.244681</td>\n      <td>0.170213</td>\n      <td>0.074468</td>\n      <td>0.026596</td>\n      <td>0.042553</td>\n      <td>0.085106</td>\n      <td>0.000000</td>\n      <td>0.202128</td>\n      <td>...</td>\n      <td>0.797872</td>\n      <td>0.723404</td>\n      <td>0.563830</td>\n      <td>0.627660</td>\n      <td>0.946809</td>\n      <td>1.000000</td>\n      <td>0.914894</td>\n      <td>0.723404</td>\n      <td>0.505319</td>\n      <td>0.351064</td>\n    </tr>\n    <tr>\n      <th>3</th>\n      <td>0</td>\n      <td>1BCNOT_T1L2</td>\n      <td>0.438596</td>\n      <td>0.350877</td>\n      <td>0.271930</td>\n      <td>0.210526</td>\n      <td>0.228070</td>\n      <td>0.192982</td>\n      <td>0.000000</td>\n      <td>0.052632</td>\n      <td>...</td>\n      <td>0.473684</td>\n      <td>0.385965</td>\n      <td>0.280702</td>\n      <td>0.491228</td>\n      <td>0.912281</td>\n      <td>1.000000</td>\n      <td>0.947368</td>\n      <td>0.771930</td>\n      <td>0.684211</td>\n      <td>0.543860</td>\n    </tr>\n    <tr>\n      <th>4</th>\n      <td>0</td>\n      <td>1BNTAY_T1L2</td>\n      <td>0.270270</td>\n      <td>0.189189</td>\n      <td>0.108108</td>\n      <td>0.027027</td>\n      <td>0.054054</td>\n      <td>0.108108</td>\n      <td>0.000000</td>\n      <td>0.108108</td>\n      <td>...</td>\n      <td>0.567568</td>\n      <td>0.459459</td>\n      <td>0.378378</td>\n      <td>0.486486</td>\n      <td>0.864865</td>\n      <td>1.000000</td>\n      <td>0.972973</td>\n      <td>0.756757</td>\n      <td>0.567568</td>\n      <td>0.405405</td>\n    </tr>\n    <tr>\n      <th>...</th>\n      <td>...</td>\n      <td>...</td>\n      <td>...</td>\n      <td>...</td>\n      <td>...</td>\n      <td>...</td>\n      <td>...</td>\n      <td>...</td>\n      <td>...</td>\n      <td>...</td>\n      <td>...</td>\n      <td>...</td>\n      <td>...</td>\n      <td>...</td>\n      <td>...</td>\n      <td>...</td>\n      <td>...</td>\n      <td>...</td>\n      <td>...</td>\n      <td>...</td>\n      <td>...</td>\n    </tr>\n    <tr>\n      <th>148</th>\n      <td>5</td>\n      <td>1MEX_SKK</td>\n      <td>0.926108</td>\n      <td>0.949097</td>\n      <td>0.903120</td>\n      <td>0.901478</td>\n      <td>0.866995</td>\n      <td>0.880131</td>\n      <td>0.801314</td>\n      <td>0.866995</td>\n      <td>...</td>\n      <td>0.016420</td>\n      <td>0.492611</td>\n      <td>0.541872</td>\n      <td>0.558292</td>\n      <td>0.650246</td>\n      <td>0.840722</td>\n      <td>0.932677</td>\n      <td>0.853859</td>\n      <td>1.000000</td>\n      <td>0.899836</td>\n    </tr>\n    <tr>\n      <th>149</th>\n      <td>5</td>\n      <td>1NSNMN_T1L1</td>\n      <td>0.782609</td>\n      <td>0.782609</td>\n      <td>0.782609</td>\n      <td>0.913043</td>\n      <td>0.869565</td>\n      <td>1.000000</td>\n      <td>0.739130</td>\n      <td>0.608696</td>\n      <td>...</td>\n      <td>0.652174</td>\n      <td>0.521739</td>\n      <td>0.782609</td>\n      <td>0.608696</td>\n      <td>0.739130</td>\n      <td>0.826087</td>\n      <td>0.913043</td>\n      <td>0.869565</td>\n      <td>0.913043</td>\n      <td>0.565217</td>\n    </tr>\n    <tr>\n      <th>150</th>\n      <td>5</td>\n      <td>1SNJOS_T1L1</td>\n      <td>0.538462</td>\n      <td>0.769231</td>\n      <td>0.730769</td>\n      <td>0.846154</td>\n      <td>1.000000</td>\n      <td>0.769231</td>\n      <td>0.923077</td>\n      <td>0.769231</td>\n      <td>...</td>\n      <td>0.461538</td>\n      <td>0.461538</td>\n      <td>0.000000</td>\n      <td>0.461538</td>\n      <td>0.384615</td>\n      <td>0.692308</td>\n      <td>0.846154</td>\n      <td>0.769231</td>\n      <td>0.769231</td>\n      <td>0.538462</td>\n    </tr>\n    <tr>\n      <th>151</th>\n      <td>5</td>\n      <td>1SNJOS_T1L3</td>\n      <td>0.710526</td>\n      <td>0.763158</td>\n      <td>0.868421</td>\n      <td>0.907895</td>\n      <td>1.000000</td>\n      <td>0.921053</td>\n      <td>0.842105</td>\n      <td>0.697368</td>\n      <td>...</td>\n      <td>0.065789</td>\n      <td>0.026316</td>\n      <td>0.315789</td>\n      <td>0.289474</td>\n      <td>0.157895</td>\n      <td>0.250000</td>\n      <td>0.355263</td>\n      <td>0.473684</td>\n      <td>0.611842</td>\n      <td>0.710526</td>\n    </tr>\n    <tr>\n      <th>152</th>\n      <td>5</td>\n      <td>3BAT_T2L1</td>\n      <td>0.883721</td>\n      <td>0.883721</td>\n      <td>0.906977</td>\n      <td>0.813953</td>\n      <td>0.837209</td>\n      <td>0.744186</td>\n      <td>0.744186</td>\n      <td>0.744186</td>\n      <td>...</td>\n      <td>0.093023</td>\n      <td>0.046512</td>\n      <td>0.186047</td>\n      <td>0.372093</td>\n      <td>0.279070</td>\n      <td>0.511628</td>\n      <td>0.744186</td>\n      <td>0.930233</td>\n      <td>1.000000</td>\n      <td>0.930233</td>\n    </tr>\n  </tbody>\n</table>\n<p>153 rows × 26 columns</p>\n</div>"
     },
     "metadata": {},
     "execution_count": 30
    }
   ],
   "source": [
    "cluster_df"
   ]
  },
  {
   "cell_type": "code",
   "execution_count": 31,
   "metadata": {},
   "outputs": [
    {
     "output_type": "execute_result",
     "data": {
      "text/plain": [
       "     cluster      reso_id\n",
       "0          0     1AEC_L01\n",
       "1          0  1BAUAN_T2L1\n",
       "2          0  1BAUAN_T2L2\n",
       "3          0  1BCNOT_T1L2\n",
       "4          0  1BNTAY_T1L2\n",
       "..       ...          ...\n",
       "148        5     1MEX_SKK\n",
       "149        5  1NSNMN_T1L1\n",
       "150        5  1SNJOS_T1L1\n",
       "151        5  1SNJOS_T1L3\n",
       "152        5    3BAT_T2L1\n",
       "\n",
       "[153 rows x 2 columns]"
      ],
      "text/html": "<div>\n<style scoped>\n    .dataframe tbody tr th:only-of-type {\n        vertical-align: middle;\n    }\n\n    .dataframe tbody tr th {\n        vertical-align: top;\n    }\n\n    .dataframe thead th {\n        text-align: right;\n    }\n</style>\n<table border=\"1\" class=\"dataframe\">\n  <thead>\n    <tr style=\"text-align: right;\">\n      <th></th>\n      <th>cluster</th>\n      <th>reso_id</th>\n    </tr>\n  </thead>\n  <tbody>\n    <tr>\n      <th>0</th>\n      <td>0</td>\n      <td>1AEC_L01</td>\n    </tr>\n    <tr>\n      <th>1</th>\n      <td>0</td>\n      <td>1BAUAN_T2L1</td>\n    </tr>\n    <tr>\n      <th>2</th>\n      <td>0</td>\n      <td>1BAUAN_T2L2</td>\n    </tr>\n    <tr>\n      <th>3</th>\n      <td>0</td>\n      <td>1BCNOT_T1L2</td>\n    </tr>\n    <tr>\n      <th>4</th>\n      <td>0</td>\n      <td>1BNTAY_T1L2</td>\n    </tr>\n    <tr>\n      <th>...</th>\n      <td>...</td>\n      <td>...</td>\n    </tr>\n    <tr>\n      <th>148</th>\n      <td>5</td>\n      <td>1MEX_SKK</td>\n    </tr>\n    <tr>\n      <th>149</th>\n      <td>5</td>\n      <td>1NSNMN_T1L1</td>\n    </tr>\n    <tr>\n      <th>150</th>\n      <td>5</td>\n      <td>1SNJOS_T1L1</td>\n    </tr>\n    <tr>\n      <th>151</th>\n      <td>5</td>\n      <td>1SNJOS_T1L3</td>\n    </tr>\n    <tr>\n      <th>152</th>\n      <td>5</td>\n      <td>3BAT_T2L1</td>\n    </tr>\n  </tbody>\n</table>\n<p>153 rows × 2 columns</p>\n</div>"
     },
     "metadata": {},
     "execution_count": 31
    }
   ],
   "source": [
    "x = []\n",
    "for i in range(0,24):\n",
    "    x.append(str(i))\n",
    "\n",
    "cluster_df = cluster_df.drop(columns = x)\n",
    "cluster_df"
   ]
  },
  {
   "cell_type": "code",
   "execution_count": 36,
   "metadata": {},
   "outputs": [],
   "source": [
    "cluster_dic = pd.Series(cluster_df.cluster.values,index=cluster_df.reso_id).to_dict()"
   ]
  },
  {
   "cell_type": "code",
   "execution_count": 37,
   "metadata": {},
   "outputs": [],
   "source": [
    "Daily_DF['cluster'] = Daily_DF['resource'].map(cluster_dic)"
   ]
  },
  {
   "cell_type": "code",
   "execution_count": 38,
   "metadata": {},
   "outputs": [
    {
     "output_type": "execute_result",
     "data": {
      "text/plain": [
       "              date participant     resource  total mw  cluster\n",
       "0       2019-01-01        WESM  1BALNEO_L01    1089.8      2.0\n",
       "196100  2019-01-01        WESM   1SUAL_T3L1     109.5      4.0\n",
       "196099  2019-01-01        WESM  1SNEST_T3L2     139.2      0.0\n",
       "196098  2019-01-01        WESM  1SNEST_T3L1     275.5      0.0\n",
       "196097  2019-01-01        WESM  1MSNLO_BATC       0.0      NaN\n",
       "...            ...         ...          ...       ...      ...\n",
       "1889990 2020-07-15        WESM  1MRVEL_T1L1       0.0      0.0\n",
       "1889891 2020-07-15        WESM  3BAT_BTLEC2     763.7      2.0\n",
       "1889872 2020-07-15        WESM   3CALIRY_SS       0.0      NaN\n",
       "1889814 2020-07-15        WESM   1SUAL_T3L1     108.4      4.0\n",
       "1889704 2020-07-15        WESM  3NAG_CSRCO1     324.5      0.0\n",
       "\n",
       "[102218 rows x 5 columns]"
      ],
      "text/html": "<div>\n<style scoped>\n    .dataframe tbody tr th:only-of-type {\n        vertical-align: middle;\n    }\n\n    .dataframe tbody tr th {\n        vertical-align: top;\n    }\n\n    .dataframe thead th {\n        text-align: right;\n    }\n</style>\n<table border=\"1\" class=\"dataframe\">\n  <thead>\n    <tr style=\"text-align: right;\">\n      <th></th>\n      <th>date</th>\n      <th>participant</th>\n      <th>resource</th>\n      <th>total mw</th>\n      <th>cluster</th>\n    </tr>\n  </thead>\n  <tbody>\n    <tr>\n      <th>0</th>\n      <td>2019-01-01</td>\n      <td>WESM</td>\n      <td>1BALNEO_L01</td>\n      <td>1089.8</td>\n      <td>2.0</td>\n    </tr>\n    <tr>\n      <th>196100</th>\n      <td>2019-01-01</td>\n      <td>WESM</td>\n      <td>1SUAL_T3L1</td>\n      <td>109.5</td>\n      <td>4.0</td>\n    </tr>\n    <tr>\n      <th>196099</th>\n      <td>2019-01-01</td>\n      <td>WESM</td>\n      <td>1SNEST_T3L2</td>\n      <td>139.2</td>\n      <td>0.0</td>\n    </tr>\n    <tr>\n      <th>196098</th>\n      <td>2019-01-01</td>\n      <td>WESM</td>\n      <td>1SNEST_T3L1</td>\n      <td>275.5</td>\n      <td>0.0</td>\n    </tr>\n    <tr>\n      <th>196097</th>\n      <td>2019-01-01</td>\n      <td>WESM</td>\n      <td>1MSNLO_BATC</td>\n      <td>0.0</td>\n      <td>NaN</td>\n    </tr>\n    <tr>\n      <th>...</th>\n      <td>...</td>\n      <td>...</td>\n      <td>...</td>\n      <td>...</td>\n      <td>...</td>\n    </tr>\n    <tr>\n      <th>1889990</th>\n      <td>2020-07-15</td>\n      <td>WESM</td>\n      <td>1MRVEL_T1L1</td>\n      <td>0.0</td>\n      <td>0.0</td>\n    </tr>\n    <tr>\n      <th>1889891</th>\n      <td>2020-07-15</td>\n      <td>WESM</td>\n      <td>3BAT_BTLEC2</td>\n      <td>763.7</td>\n      <td>2.0</td>\n    </tr>\n    <tr>\n      <th>1889872</th>\n      <td>2020-07-15</td>\n      <td>WESM</td>\n      <td>3CALIRY_SS</td>\n      <td>0.0</td>\n      <td>NaN</td>\n    </tr>\n    <tr>\n      <th>1889814</th>\n      <td>2020-07-15</td>\n      <td>WESM</td>\n      <td>1SUAL_T3L1</td>\n      <td>108.4</td>\n      <td>4.0</td>\n    </tr>\n    <tr>\n      <th>1889704</th>\n      <td>2020-07-15</td>\n      <td>WESM</td>\n      <td>3NAG_CSRCO1</td>\n      <td>324.5</td>\n      <td>0.0</td>\n    </tr>\n  </tbody>\n</table>\n<p>102218 rows × 5 columns</p>\n</div>"
     },
     "metadata": {},
     "execution_count": 38
    }
   ],
   "source": [
    "Daily_DF"
   ]
  },
  {
   "cell_type": "code",
   "execution_count": 74,
   "metadata": {},
   "outputs": [
    {
     "output_type": "execute_result",
     "data": {
      "text/plain": [
       "(59, 2)"
      ]
     },
     "metadata": {},
     "execution_count": 74
    },
    {
     "output_type": "execute_result",
     "data": {
      "text/plain": [
       "(17, 2)"
      ]
     },
     "metadata": {},
     "execution_count": 74
    },
    {
     "output_type": "execute_result",
     "data": {
      "text/plain": [
       "(59, 2)"
      ]
     },
     "metadata": {},
     "execution_count": 74
    },
    {
     "output_type": "execute_result",
     "data": {
      "text/plain": [
       "(6, 2)"
      ]
     },
     "metadata": {},
     "execution_count": 74
    },
    {
     "output_type": "execute_result",
     "data": {
      "text/plain": [
       "(3, 2)"
      ]
     },
     "metadata": {},
     "execution_count": 74
    },
    {
     "output_type": "execute_result",
     "data": {
      "text/plain": [
       "(9, 2)"
      ]
     },
     "metadata": {},
     "execution_count": 74
    }
   ],
   "source": [
    "cluster_df[cluster_df['cluster'] == 0].shape\n",
    "cluster_df[cluster_df['cluster'] == 1].shape\n",
    "cluster_df[cluster_df['cluster'] == 2].shape\n",
    "cluster_df[cluster_df['cluster'] == 3].shape\n",
    "cluster_df[cluster_df['cluster'] == 4].shape\n",
    "cluster_df[cluster_df['cluster'] == 5].shape"
   ]
  },
  {
   "cell_type": "code",
   "execution_count": 76,
   "metadata": {},
   "outputs": [
    {
     "output_type": "execute_result",
     "data": {
      "text/plain": [
       "153"
      ]
     },
     "metadata": {},
     "execution_count": 76
    }
   ],
   "source": [
    "59+17+59+6+3+9"
   ]
  },
  {
   "cell_type": "code",
   "execution_count": 56,
   "metadata": {},
   "outputs": [],
   "source": [
    "Daily_DF_Clustered = Daily_DF.copy()"
   ]
  },
  {
   "cell_type": "code",
   "execution_count": 59,
   "metadata": {},
   "outputs": [
    {
     "output_type": "execute_result",
     "data": {
      "text/plain": [
       "              date participant     resource  total mw  cluster\n",
       "0       2019-01-01        WESM  1BALNEO_L01    1089.8      2.0\n",
       "196100  2019-01-01        WESM   1SUAL_T3L1     109.5      4.0\n",
       "196099  2019-01-01        WESM  1SNEST_T3L2     139.2      0.0\n",
       "196098  2019-01-01        WESM  1SNEST_T3L1     275.5      0.0\n",
       "196096  2019-01-01        WESM    1MEX_CISP     438.4      5.0\n",
       "...            ...         ...          ...       ...      ...\n",
       "1696096 2020-07-15        WESM   1BTPP_T3L2     567.8      0.0\n",
       "1889990 2020-07-15        WESM  1MRVEL_T1L1       0.0      0.0\n",
       "1889891 2020-07-15        WESM  3BAT_BTLEC2     763.7      2.0\n",
       "1889814 2020-07-15        WESM   1SUAL_T3L1     108.4      4.0\n",
       "1889704 2020-07-15        WESM  3NAG_CSRCO1     324.5      0.0\n",
       "\n",
       "[85996 rows x 5 columns]"
      ],
      "text/html": "<div>\n<style scoped>\n    .dataframe tbody tr th:only-of-type {\n        vertical-align: middle;\n    }\n\n    .dataframe tbody tr th {\n        vertical-align: top;\n    }\n\n    .dataframe thead th {\n        text-align: right;\n    }\n</style>\n<table border=\"1\" class=\"dataframe\">\n  <thead>\n    <tr style=\"text-align: right;\">\n      <th></th>\n      <th>date</th>\n      <th>participant</th>\n      <th>resource</th>\n      <th>total mw</th>\n      <th>cluster</th>\n    </tr>\n  </thead>\n  <tbody>\n    <tr>\n      <th>0</th>\n      <td>2019-01-01</td>\n      <td>WESM</td>\n      <td>1BALNEO_L01</td>\n      <td>1089.8</td>\n      <td>2.0</td>\n    </tr>\n    <tr>\n      <th>196100</th>\n      <td>2019-01-01</td>\n      <td>WESM</td>\n      <td>1SUAL_T3L1</td>\n      <td>109.5</td>\n      <td>4.0</td>\n    </tr>\n    <tr>\n      <th>196099</th>\n      <td>2019-01-01</td>\n      <td>WESM</td>\n      <td>1SNEST_T3L2</td>\n      <td>139.2</td>\n      <td>0.0</td>\n    </tr>\n    <tr>\n      <th>196098</th>\n      <td>2019-01-01</td>\n      <td>WESM</td>\n      <td>1SNEST_T3L1</td>\n      <td>275.5</td>\n      <td>0.0</td>\n    </tr>\n    <tr>\n      <th>196096</th>\n      <td>2019-01-01</td>\n      <td>WESM</td>\n      <td>1MEX_CISP</td>\n      <td>438.4</td>\n      <td>5.0</td>\n    </tr>\n    <tr>\n      <th>...</th>\n      <td>...</td>\n      <td>...</td>\n      <td>...</td>\n      <td>...</td>\n      <td>...</td>\n    </tr>\n    <tr>\n      <th>1696096</th>\n      <td>2020-07-15</td>\n      <td>WESM</td>\n      <td>1BTPP_T3L2</td>\n      <td>567.8</td>\n      <td>0.0</td>\n    </tr>\n    <tr>\n      <th>1889990</th>\n      <td>2020-07-15</td>\n      <td>WESM</td>\n      <td>1MRVEL_T1L1</td>\n      <td>0.0</td>\n      <td>0.0</td>\n    </tr>\n    <tr>\n      <th>1889891</th>\n      <td>2020-07-15</td>\n      <td>WESM</td>\n      <td>3BAT_BTLEC2</td>\n      <td>763.7</td>\n      <td>2.0</td>\n    </tr>\n    <tr>\n      <th>1889814</th>\n      <td>2020-07-15</td>\n      <td>WESM</td>\n      <td>1SUAL_T3L1</td>\n      <td>108.4</td>\n      <td>4.0</td>\n    </tr>\n    <tr>\n      <th>1889704</th>\n      <td>2020-07-15</td>\n      <td>WESM</td>\n      <td>3NAG_CSRCO1</td>\n      <td>324.5</td>\n      <td>0.0</td>\n    </tr>\n  </tbody>\n</table>\n<p>85996 rows × 5 columns</p>\n</div>"
     },
     "metadata": {},
     "execution_count": 59
    }
   ],
   "source": [
    "Daily_DF_Clustered = Daily_DF_Clustered.dropna()\n",
    "Daily_DF_Clustered"
   ]
  },
  {
   "cell_type": "code",
   "execution_count": null,
   "metadata": {},
   "outputs": [],
   "source": []
  }
 ]
}